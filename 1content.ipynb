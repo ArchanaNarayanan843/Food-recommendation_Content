{
 "cells": [
  {
   "cell_type": "code",
   "execution_count": 1,
   "id": "c460ab81",
   "metadata": {},
   "outputs": [],
   "source": [
    "import pandas as pd\n",
    "import numpy as np\n",
    "from PIL import Image\n",
    "import requests\n",
    "from io import BytesIO\n",
    "from IPython.display import display\n",
    "import matplotlib.pyplot as plt"
   ]
  },
  {
   "cell_type": "code",
   "execution_count": 3,
   "id": "4e4e1281",
   "metadata": {},
   "outputs": [],
   "source": [
    "\n",
    "import re\n",
    "from sklearn.feature_extraction.text import TfidfVectorizer\n",
    "\n",
    "# Capture similarity \n",
    "from sklearn.metrics.pairwise import linear_kernel"
   ]
  },
  {
   "cell_type": "code",
   "execution_count": 4,
   "id": "8a9cde01",
   "metadata": {},
   "outputs": [],
   "source": [
    "from urllib3.exceptions import InsecureRequestWarning\n",
    "from urllib3 import disable_warnings\n",
    "\n",
    "disable_warnings(InsecureRequestWarning)"
   ]
  },
  {
   "cell_type": "code",
   "execution_count": 5,
   "id": "6a27d480",
   "metadata": {},
   "outputs": [],
   "source": [
    "df=pd.read_csv('user_item.csv')\n"
   ]
  },
  {
   "cell_type": "code",
   "execution_count": 6,
   "id": "780c6b52",
   "metadata": {},
   "outputs": [
    {
     "data": {
      "text/plain": [
       "(166, 20)"
      ]
     },
     "execution_count": 6,
     "metadata": {},
     "output_type": "execute_result"
    }
   ],
   "source": [
    "df.shape"
   ]
  },
  {
   "cell_type": "code",
   "execution_count": 7,
   "id": "21b57abe",
   "metadata": {},
   "outputs": [],
   "source": [
    "image=df[['item_name','images']]\n",
    "image=image.dropna()\n",
    "#image=image.drop_duplicates(subset=['name'],keep='last')\n",
    "\n",
    "def url_to_image(url):\n",
    "    response = requests.get(url)\n",
    "    img = Image.open(BytesIO(response.content))\n",
    "    img = img.resize((150,150),Image.ANTIALIAS)\n",
    "    return img\n"
   ]
  },
  {
   "cell_type": "code",
   "execution_count": 8,
   "id": "bec6ccc1",
   "metadata": {},
   "outputs": [
    {
     "data": {
      "text/html": [
       "<div>\n",
       "<style scoped>\n",
       "    .dataframe tbody tr th:only-of-type {\n",
       "        vertical-align: middle;\n",
       "    }\n",
       "\n",
       "    .dataframe tbody tr th {\n",
       "        vertical-align: top;\n",
       "    }\n",
       "\n",
       "    .dataframe thead th {\n",
       "        text-align: right;\n",
       "    }\n",
       "</style>\n",
       "<table border=\"1\" class=\"dataframe\">\n",
       "  <thead>\n",
       "    <tr style=\"text-align: right;\">\n",
       "      <th></th>\n",
       "      <th>id</th>\n",
       "      <th>discount_on_product</th>\n",
       "      <th>preparation_time</th>\n",
       "      <th>price</th>\n",
       "      <th>price_before_discount</th>\n",
       "      <th>quantity</th>\n",
       "      <th>updated_at</th>\n",
       "      <th>item_name</th>\n",
       "      <th>chef_name</th>\n",
       "      <th>user_name</th>\n",
       "      <th>category_name</th>\n",
       "      <th>diet_name</th>\n",
       "      <th>item_rating</th>\n",
       "      <th>chef_rating</th>\n",
       "      <th>description</th>\n",
       "      <th>category</th>\n",
       "      <th>incredients</th>\n",
       "      <th>images</th>\n",
       "      <th>item_id</th>\n",
       "      <th>user_id</th>\n",
       "    </tr>\n",
       "  </thead>\n",
       "  <tbody>\n",
       "    <tr>\n",
       "      <th>0</th>\n",
       "      <td>0185cf68-4851-4d80-a10a-1942cdb7faa2</td>\n",
       "      <td>0.00</td>\n",
       "      <td>60</td>\n",
       "      <td>6.00</td>\n",
       "      <td>6.00</td>\n",
       "      <td>1</td>\n",
       "      <td>2022-07-08 21:02:16.533000</td>\n",
       "      <td>Paneer butter masala</td>\n",
       "      <td>Jinu Samuel</td>\n",
       "      <td>Vishnu</td>\n",
       "      <td>Indian</td>\n",
       "      <td>Vegetarian</td>\n",
       "      <td>3</td>\n",
       "      <td>3</td>\n",
       "      <td>Paneer butter Masala</td>\n",
       "      <td>Indian Vegetarian</td>\n",
       "      <td>butter, paneer, onions, tomatoes, cashew  powd...</td>\n",
       "      <td>https://kxbucket.s3.eu-central-1.amazonaws.com...</td>\n",
       "      <td>0</td>\n",
       "      <td>0</td>\n",
       "    </tr>\n",
       "    <tr>\n",
       "      <th>1</th>\n",
       "      <td>026c83cb-8222-47d8-805d-327f2c07c9b3</td>\n",
       "      <td>0.54</td>\n",
       "      <td>30</td>\n",
       "      <td>1.64</td>\n",
       "      <td>2.18</td>\n",
       "      <td>1</td>\n",
       "      <td>2022-06-27 08:59:05.312000</td>\n",
       "      <td>Falafel with Humus</td>\n",
       "      <td>R Rana</td>\n",
       "      <td>Vibin</td>\n",
       "      <td>Turkish</td>\n",
       "      <td>Vegetarian</td>\n",
       "      <td>4</td>\n",
       "      <td>4</td>\n",
       "      <td>Falafel, a crispy pattie (or ball) made from (...</td>\n",
       "      <td>Turkish Vegetarian</td>\n",
       "      <td>Chickpeas, Besan, Onion,  Garlic Cloves, Ginge...</td>\n",
       "      <td>https://kxbucket.s3.eu-central-1.amazonaws.com...</td>\n",
       "      <td>1</td>\n",
       "      <td>1</td>\n",
       "    </tr>\n",
       "    <tr>\n",
       "      <th>2</th>\n",
       "      <td>0343717d-0b3c-4d9f-9942-74b0ed299a23</td>\n",
       "      <td>1.50</td>\n",
       "      <td>35</td>\n",
       "      <td>28.50</td>\n",
       "      <td>30.00</td>\n",
       "      <td>2</td>\n",
       "      <td>2022-07-30 16:05:56.655000</td>\n",
       "      <td>Mutton Biriyani</td>\n",
       "      <td>Faizan Nabeel</td>\n",
       "      <td>R Rana</td>\n",
       "      <td>Indian</td>\n",
       "      <td>100% Halal</td>\n",
       "      <td>4</td>\n",
       "      <td>4</td>\n",
       "      <td>This biriyani is prepared Old Pakistani tradit...</td>\n",
       "      <td>Indian 100% Halal</td>\n",
       "      <td>basmati rice,Bay leaves, Black cardamom, black...</td>\n",
       "      <td>https://kxbucket.s3.eu-central-1.amazonaws.com...</td>\n",
       "      <td>2</td>\n",
       "      <td>2</td>\n",
       "    </tr>\n",
       "  </tbody>\n",
       "</table>\n",
       "</div>"
      ],
      "text/plain": [
       "                                     id  discount_on_product  \\\n",
       "0  0185cf68-4851-4d80-a10a-1942cdb7faa2                 0.00   \n",
       "1  026c83cb-8222-47d8-805d-327f2c07c9b3                 0.54   \n",
       "2  0343717d-0b3c-4d9f-9942-74b0ed299a23                 1.50   \n",
       "\n",
       "   preparation_time  price  price_before_discount  quantity  \\\n",
       "0                60   6.00                   6.00         1   \n",
       "1                30   1.64                   2.18         1   \n",
       "2                35  28.50                  30.00         2   \n",
       "\n",
       "                   updated_at             item_name      chef_name user_name  \\\n",
       "0  2022-07-08 21:02:16.533000  Paneer butter masala    Jinu Samuel    Vishnu   \n",
       "1  2022-06-27 08:59:05.312000    Falafel with Humus         R Rana     Vibin   \n",
       "2  2022-07-30 16:05:56.655000       Mutton Biriyani  Faizan Nabeel    R Rana   \n",
       "\n",
       "  category_name   diet_name  item_rating  chef_rating  \\\n",
       "0        Indian  Vegetarian            3            3   \n",
       "1       Turkish  Vegetarian            4            4   \n",
       "2        Indian  100% Halal            4            4   \n",
       "\n",
       "                                         description            category  \\\n",
       "0                               Paneer butter Masala   Indian Vegetarian   \n",
       "1  Falafel, a crispy pattie (or ball) made from (...  Turkish Vegetarian   \n",
       "2  This biriyani is prepared Old Pakistani tradit...   Indian 100% Halal   \n",
       "\n",
       "                                         incredients  \\\n",
       "0  butter, paneer, onions, tomatoes, cashew  powd...   \n",
       "1  Chickpeas, Besan, Onion,  Garlic Cloves, Ginge...   \n",
       "2  basmati rice,Bay leaves, Black cardamom, black...   \n",
       "\n",
       "                                              images  item_id  user_id  \n",
       "0  https://kxbucket.s3.eu-central-1.amazonaws.com...        0        0  \n",
       "1  https://kxbucket.s3.eu-central-1.amazonaws.com...        1        1  \n",
       "2  https://kxbucket.s3.eu-central-1.amazonaws.com...        2        2  "
      ]
     },
     "execution_count": 8,
     "metadata": {},
     "output_type": "execute_result"
    }
   ],
   "source": [
    "df.head(3)"
   ]
  },
  {
   "cell_type": "code",
   "execution_count": 9,
   "id": "5809aa03",
   "metadata": {},
   "outputs": [],
   "source": [
    "d1=df[['id','item_name','chef_name','user_name','category','incredients','description']]"
   ]
  },
  {
   "cell_type": "code",
   "execution_count": 10,
   "id": "616ce5fe",
   "metadata": {},
   "outputs": [
    {
     "data": {
      "text/html": [
       "<div>\n",
       "<style scoped>\n",
       "    .dataframe tbody tr th:only-of-type {\n",
       "        vertical-align: middle;\n",
       "    }\n",
       "\n",
       "    .dataframe tbody tr th {\n",
       "        vertical-align: top;\n",
       "    }\n",
       "\n",
       "    .dataframe thead th {\n",
       "        text-align: right;\n",
       "    }\n",
       "</style>\n",
       "<table border=\"1\" class=\"dataframe\">\n",
       "  <thead>\n",
       "    <tr style=\"text-align: right;\">\n",
       "      <th></th>\n",
       "      <th>id</th>\n",
       "      <th>item_name</th>\n",
       "      <th>chef_name</th>\n",
       "      <th>user_name</th>\n",
       "      <th>category</th>\n",
       "      <th>incredients</th>\n",
       "      <th>description</th>\n",
       "    </tr>\n",
       "  </thead>\n",
       "  <tbody>\n",
       "    <tr>\n",
       "      <th>0</th>\n",
       "      <td>0185cf68-4851-4d80-a10a-1942cdb7faa2</td>\n",
       "      <td>Paneer butter masala</td>\n",
       "      <td>Jinu Samuel</td>\n",
       "      <td>Vishnu</td>\n",
       "      <td>Indian Vegetarian</td>\n",
       "      <td>butter, paneer, onions, tomatoes, cashew  powd...</td>\n",
       "      <td>Paneer butter Masala</td>\n",
       "    </tr>\n",
       "    <tr>\n",
       "      <th>1</th>\n",
       "      <td>026c83cb-8222-47d8-805d-327f2c07c9b3</td>\n",
       "      <td>Falafel with Humus</td>\n",
       "      <td>R Rana</td>\n",
       "      <td>Vibin</td>\n",
       "      <td>Turkish Vegetarian</td>\n",
       "      <td>Chickpeas, Besan, Onion,  Garlic Cloves, Ginge...</td>\n",
       "      <td>Falafel, a crispy pattie (or ball) made from (...</td>\n",
       "    </tr>\n",
       "    <tr>\n",
       "      <th>2</th>\n",
       "      <td>0343717d-0b3c-4d9f-9942-74b0ed299a23</td>\n",
       "      <td>Mutton Biriyani</td>\n",
       "      <td>Faizan Nabeel</td>\n",
       "      <td>R Rana</td>\n",
       "      <td>Indian 100% Halal</td>\n",
       "      <td>basmati rice,Bay leaves, Black cardamom, black...</td>\n",
       "      <td>This biriyani is prepared Old Pakistani tradit...</td>\n",
       "    </tr>\n",
       "    <tr>\n",
       "      <th>3</th>\n",
       "      <td>04d60eb5-f4ec-47ba-aadc-8b40b3622ff7</td>\n",
       "      <td>Chicken puffs</td>\n",
       "      <td>Jinu Samuel</td>\n",
       "      <td>R Rana</td>\n",
       "      <td>Indian Non Vegetarian</td>\n",
       "      <td>Puff Pastry Sheets, Raw Chicken , Onion, Cilan...</td>\n",
       "      <td>Crunchy, lip-smacking snack that you can enjoy...</td>\n",
       "    </tr>\n",
       "    <tr>\n",
       "      <th>4</th>\n",
       "      <td>0709fbf5-5184-4d42-9c78-c6b3aa00a4cd</td>\n",
       "      <td>Chicken Fry</td>\n",
       "      <td>Jinu Samuel</td>\n",
       "      <td>kookxtra User 4</td>\n",
       "      <td>Indian Non Vegetarian</td>\n",
       "      <td>Chicken, fresh ginger garlic paste, red chilli...</td>\n",
       "      <td>Crispy fry coated with authentic spices and ma...</td>\n",
       "    </tr>\n",
       "  </tbody>\n",
       "</table>\n",
       "</div>"
      ],
      "text/plain": [
       "                                     id             item_name      chef_name  \\\n",
       "0  0185cf68-4851-4d80-a10a-1942cdb7faa2  Paneer butter masala    Jinu Samuel   \n",
       "1  026c83cb-8222-47d8-805d-327f2c07c9b3    Falafel with Humus         R Rana   \n",
       "2  0343717d-0b3c-4d9f-9942-74b0ed299a23       Mutton Biriyani  Faizan Nabeel   \n",
       "3  04d60eb5-f4ec-47ba-aadc-8b40b3622ff7         Chicken puffs    Jinu Samuel   \n",
       "4  0709fbf5-5184-4d42-9c78-c6b3aa00a4cd           Chicken Fry    Jinu Samuel   \n",
       "\n",
       "         user_name               category  \\\n",
       "0           Vishnu      Indian Vegetarian   \n",
       "1            Vibin     Turkish Vegetarian   \n",
       "2           R Rana      Indian 100% Halal   \n",
       "3           R Rana  Indian Non Vegetarian   \n",
       "4  kookxtra User 4  Indian Non Vegetarian   \n",
       "\n",
       "                                         incredients  \\\n",
       "0  butter, paneer, onions, tomatoes, cashew  powd...   \n",
       "1  Chickpeas, Besan, Onion,  Garlic Cloves, Ginge...   \n",
       "2  basmati rice,Bay leaves, Black cardamom, black...   \n",
       "3  Puff Pastry Sheets, Raw Chicken , Onion, Cilan...   \n",
       "4  Chicken, fresh ginger garlic paste, red chilli...   \n",
       "\n",
       "                                         description  \n",
       "0                               Paneer butter Masala  \n",
       "1  Falafel, a crispy pattie (or ball) made from (...  \n",
       "2  This biriyani is prepared Old Pakistani tradit...  \n",
       "3  Crunchy, lip-smacking snack that you can enjoy...  \n",
       "4  Crispy fry coated with authentic spices and ma...  "
      ]
     },
     "execution_count": 10,
     "metadata": {},
     "output_type": "execute_result"
    }
   ],
   "source": [
    "#d1 = d1.drop_duplicates(subset=[\"item_name\"], keep='first')\n",
    "d1.head(5)"
   ]
  },
  {
   "cell_type": "code",
   "execution_count": 11,
   "id": "dc340eaa",
   "metadata": {
    "scrolled": true
   },
   "outputs": [
    {
     "name": "stderr",
     "output_type": "stream",
     "text": [
      "/tmp/ipykernel_13779/3698451926.py:1: SettingWithCopyWarning: \n",
      "A value is trying to be set on a copy of a slice from a DataFrame.\n",
      "Try using .loc[row_indexer,col_indexer] = value instead\n",
      "\n",
      "See the caveats in the documentation: https://pandas.pydata.org/pandas-docs/stable/user_guide/indexing.html#returning-a-view-versus-a-copy\n",
      "  d1['iid'] = pd.factorize(d1['item_name'])[0]\n"
     ]
    },
    {
     "data": {
      "text/html": [
       "<div>\n",
       "<style scoped>\n",
       "    .dataframe tbody tr th:only-of-type {\n",
       "        vertical-align: middle;\n",
       "    }\n",
       "\n",
       "    .dataframe tbody tr th {\n",
       "        vertical-align: top;\n",
       "    }\n",
       "\n",
       "    .dataframe thead th {\n",
       "        text-align: right;\n",
       "    }\n",
       "</style>\n",
       "<table border=\"1\" class=\"dataframe\">\n",
       "  <thead>\n",
       "    <tr style=\"text-align: right;\">\n",
       "      <th></th>\n",
       "      <th>id</th>\n",
       "      <th>item_name</th>\n",
       "      <th>chef_name</th>\n",
       "      <th>user_name</th>\n",
       "      <th>category</th>\n",
       "      <th>incredients</th>\n",
       "      <th>description</th>\n",
       "      <th>iid</th>\n",
       "    </tr>\n",
       "  </thead>\n",
       "  <tbody>\n",
       "    <tr>\n",
       "      <th>0</th>\n",
       "      <td>0185cf68-4851-4d80-a10a-1942cdb7faa2</td>\n",
       "      <td>Paneer butter masala</td>\n",
       "      <td>Jinu Samuel</td>\n",
       "      <td>Vishnu</td>\n",
       "      <td>Indian Vegetarian</td>\n",
       "      <td>butter, paneer, onions, tomatoes, cashew  powd...</td>\n",
       "      <td>Paneer butter Masala</td>\n",
       "      <td>0</td>\n",
       "    </tr>\n",
       "    <tr>\n",
       "      <th>1</th>\n",
       "      <td>026c83cb-8222-47d8-805d-327f2c07c9b3</td>\n",
       "      <td>Falafel with Humus</td>\n",
       "      <td>R Rana</td>\n",
       "      <td>Vibin</td>\n",
       "      <td>Turkish Vegetarian</td>\n",
       "      <td>Chickpeas, Besan, Onion,  Garlic Cloves, Ginge...</td>\n",
       "      <td>Falafel, a crispy pattie (or ball) made from (...</td>\n",
       "      <td>1</td>\n",
       "    </tr>\n",
       "    <tr>\n",
       "      <th>2</th>\n",
       "      <td>0343717d-0b3c-4d9f-9942-74b0ed299a23</td>\n",
       "      <td>Mutton Biriyani</td>\n",
       "      <td>Faizan Nabeel</td>\n",
       "      <td>R Rana</td>\n",
       "      <td>Indian 100% Halal</td>\n",
       "      <td>basmati rice,Bay leaves, Black cardamom, black...</td>\n",
       "      <td>This biriyani is prepared Old Pakistani tradit...</td>\n",
       "      <td>2</td>\n",
       "    </tr>\n",
       "    <tr>\n",
       "      <th>3</th>\n",
       "      <td>04d60eb5-f4ec-47ba-aadc-8b40b3622ff7</td>\n",
       "      <td>Chicken puffs</td>\n",
       "      <td>Jinu Samuel</td>\n",
       "      <td>R Rana</td>\n",
       "      <td>Indian Non Vegetarian</td>\n",
       "      <td>Puff Pastry Sheets, Raw Chicken , Onion, Cilan...</td>\n",
       "      <td>Crunchy, lip-smacking snack that you can enjoy...</td>\n",
       "      <td>3</td>\n",
       "    </tr>\n",
       "    <tr>\n",
       "      <th>4</th>\n",
       "      <td>0709fbf5-5184-4d42-9c78-c6b3aa00a4cd</td>\n",
       "      <td>Chicken Fry</td>\n",
       "      <td>Jinu Samuel</td>\n",
       "      <td>kookxtra User 4</td>\n",
       "      <td>Indian Non Vegetarian</td>\n",
       "      <td>Chicken, fresh ginger garlic paste, red chilli...</td>\n",
       "      <td>Crispy fry coated with authentic spices and ma...</td>\n",
       "      <td>4</td>\n",
       "    </tr>\n",
       "    <tr>\n",
       "      <th>...</th>\n",
       "      <td>...</td>\n",
       "      <td>...</td>\n",
       "      <td>...</td>\n",
       "      <td>...</td>\n",
       "      <td>...</td>\n",
       "      <td>...</td>\n",
       "      <td>...</td>\n",
       "      <td>...</td>\n",
       "    </tr>\n",
       "    <tr>\n",
       "      <th>161</th>\n",
       "      <td>f58915fb-c650-40b5-b3fa-3aa161931d9c</td>\n",
       "      <td>Paalappam</td>\n",
       "      <td>Jinu Samuel</td>\n",
       "      <td>Jobin Daniel</td>\n",
       "      <td>Indian Vegetarian</td>\n",
       "      <td>rice, coconut, coconut milk, cooked rice, salt...</td>\n",
       "      <td>Soft and mildly sweet type of Indian rice brea...</td>\n",
       "      <td>55</td>\n",
       "    </tr>\n",
       "    <tr>\n",
       "      <th>162</th>\n",
       "      <td>f63b5c7c-ff52-4e56-ad0a-358a7dd85d53</td>\n",
       "      <td>Pasta alla Norma</td>\n",
       "      <td>Gabriele Vegan Bear Chef</td>\n",
       "      <td>Anca</td>\n",
       "      <td>Italian Vegan</td>\n",
       "      <td>Marinara sauce, eggplant, olive oil, pasta, ba...</td>\n",
       "      <td>Pasta alla Norma is a traditional dish from Si...</td>\n",
       "      <td>43</td>\n",
       "    </tr>\n",
       "    <tr>\n",
       "      <th>163</th>\n",
       "      <td>fa092600-a1a7-4871-9165-913b6332e4c4</td>\n",
       "      <td>Chicken Bombay Biryani</td>\n",
       "      <td>Faizan Nabeel</td>\n",
       "      <td>Sara</td>\n",
       "      <td>Indian Non Vegetarian</td>\n",
       "      <td>dried plums, kewra essence, fried onions, chic...</td>\n",
       "      <td>Basmati rice cooked with house blend spices an...</td>\n",
       "      <td>35</td>\n",
       "    </tr>\n",
       "    <tr>\n",
       "      <th>164</th>\n",
       "      <td>fa612bff-2b4d-4397-909a-d9b61d024891</td>\n",
       "      <td>Beef Ularthu</td>\n",
       "      <td>Jinu Samuel</td>\n",
       "      <td>Jobin Daniel</td>\n",
       "      <td>Indian Non Vegetarian</td>\n",
       "      <td>beef, shallots,green chilli, ginger, garlic, r...</td>\n",
       "      <td>Tender beef pieces coated in a luxurious mix o...</td>\n",
       "      <td>12</td>\n",
       "    </tr>\n",
       "    <tr>\n",
       "      <th>165</th>\n",
       "      <td>ff3d0011-c4cd-4f32-bea9-a88a3a6d6bed</td>\n",
       "      <td>Onam Sadya</td>\n",
       "      <td>Jinu Samuel</td>\n",
       "      <td>Madhu Kudukkasseri</td>\n",
       "      <td>Indian Vegetarian</td>\n",
       "      <td>banana chips, yam chips, Jaggery coated banana...</td>\n",
       "      <td>Authentic and traditional in every sense. The ...</td>\n",
       "      <td>32</td>\n",
       "    </tr>\n",
       "  </tbody>\n",
       "</table>\n",
       "<p>166 rows × 8 columns</p>\n",
       "</div>"
      ],
      "text/plain": [
       "                                       id               item_name  \\\n",
       "0    0185cf68-4851-4d80-a10a-1942cdb7faa2    Paneer butter masala   \n",
       "1    026c83cb-8222-47d8-805d-327f2c07c9b3      Falafel with Humus   \n",
       "2    0343717d-0b3c-4d9f-9942-74b0ed299a23         Mutton Biriyani   \n",
       "3    04d60eb5-f4ec-47ba-aadc-8b40b3622ff7           Chicken puffs   \n",
       "4    0709fbf5-5184-4d42-9c78-c6b3aa00a4cd             Chicken Fry   \n",
       "..                                    ...                     ...   \n",
       "161  f58915fb-c650-40b5-b3fa-3aa161931d9c               Paalappam   \n",
       "162  f63b5c7c-ff52-4e56-ad0a-358a7dd85d53        Pasta alla Norma   \n",
       "163  fa092600-a1a7-4871-9165-913b6332e4c4  Chicken Bombay Biryani   \n",
       "164  fa612bff-2b4d-4397-909a-d9b61d024891            Beef Ularthu   \n",
       "165  ff3d0011-c4cd-4f32-bea9-a88a3a6d6bed              Onam Sadya   \n",
       "\n",
       "                    chef_name            user_name               category  \\\n",
       "0                 Jinu Samuel               Vishnu      Indian Vegetarian   \n",
       "1                      R Rana                Vibin     Turkish Vegetarian   \n",
       "2               Faizan Nabeel               R Rana      Indian 100% Halal   \n",
       "3                 Jinu Samuel               R Rana  Indian Non Vegetarian   \n",
       "4                 Jinu Samuel      kookxtra User 4  Indian Non Vegetarian   \n",
       "..                        ...                  ...                    ...   \n",
       "161               Jinu Samuel         Jobin Daniel      Indian Vegetarian   \n",
       "162  Gabriele Vegan Bear Chef                 Anca          Italian Vegan   \n",
       "163             Faizan Nabeel                 Sara  Indian Non Vegetarian   \n",
       "164               Jinu Samuel         Jobin Daniel  Indian Non Vegetarian   \n",
       "165               Jinu Samuel  Madhu Kudukkasseri       Indian Vegetarian   \n",
       "\n",
       "                                           incredients  \\\n",
       "0    butter, paneer, onions, tomatoes, cashew  powd...   \n",
       "1    Chickpeas, Besan, Onion,  Garlic Cloves, Ginge...   \n",
       "2    basmati rice,Bay leaves, Black cardamom, black...   \n",
       "3    Puff Pastry Sheets, Raw Chicken , Onion, Cilan...   \n",
       "4    Chicken, fresh ginger garlic paste, red chilli...   \n",
       "..                                                 ...   \n",
       "161  rice, coconut, coconut milk, cooked rice, salt...   \n",
       "162  Marinara sauce, eggplant, olive oil, pasta, ba...   \n",
       "163  dried plums, kewra essence, fried onions, chic...   \n",
       "164  beef, shallots,green chilli, ginger, garlic, r...   \n",
       "165  banana chips, yam chips, Jaggery coated banana...   \n",
       "\n",
       "                                           description  iid  \n",
       "0                                 Paneer butter Masala    0  \n",
       "1    Falafel, a crispy pattie (or ball) made from (...    1  \n",
       "2    This biriyani is prepared Old Pakistani tradit...    2  \n",
       "3    Crunchy, lip-smacking snack that you can enjoy...    3  \n",
       "4    Crispy fry coated with authentic spices and ma...    4  \n",
       "..                                                 ...  ...  \n",
       "161  Soft and mildly sweet type of Indian rice brea...   55  \n",
       "162  Pasta alla Norma is a traditional dish from Si...   43  \n",
       "163  Basmati rice cooked with house blend spices an...   35  \n",
       "164  Tender beef pieces coated in a luxurious mix o...   12  \n",
       "165  Authentic and traditional in every sense. The ...   32  \n",
       "\n",
       "[166 rows x 8 columns]"
      ]
     },
     "execution_count": 11,
     "metadata": {},
     "output_type": "execute_result"
    }
   ],
   "source": [
    "d1['iid'] = pd.factorize(d1['item_name'])[0]\n",
    "d1"
   ]
  },
  {
   "cell_type": "code",
   "execution_count": 12,
   "id": "1ab24452",
   "metadata": {
    "scrolled": false
   },
   "outputs": [
    {
     "name": "stderr",
     "output_type": "stream",
     "text": [
      "/tmp/ipykernel_13779/261142284.py:1: SettingWithCopyWarning: \n",
      "A value is trying to be set on a copy of a slice from a DataFrame.\n",
      "Try using .loc[row_indexer,col_indexer] = value instead\n",
      "\n",
      "See the caveats in the documentation: https://pandas.pydata.org/pandas-docs/stable/user_guide/indexing.html#returning-a-view-versus-a-copy\n",
      "  d1[\"category\"]= d1[\"category\"].str.split(\" \", n = 1, expand = False)\n"
     ]
    }
   ],
   "source": [
    "d1[\"category\"]= d1[\"category\"].str.split(\" \", n = 1, expand = False)"
   ]
  },
  {
   "cell_type": "code",
   "execution_count": 13,
   "id": "f7f296fa",
   "metadata": {
    "scrolled": false
   },
   "outputs": [
    {
     "name": "stdout",
     "output_type": "stream",
     "text": [
      "<class 'pandas.core.frame.DataFrame'>\n",
      "RangeIndex: 166 entries, 0 to 165\n",
      "Data columns (total 8 columns):\n",
      " #   Column       Non-Null Count  Dtype \n",
      "---  ------       --------------  ----- \n",
      " 0   id           166 non-null    object\n",
      " 1   item_name    166 non-null    object\n",
      " 2   chef_name    166 non-null    object\n",
      " 3   user_name    166 non-null    object\n",
      " 4   category     166 non-null    object\n",
      " 5   incredients  166 non-null    object\n",
      " 6   description  166 non-null    object\n",
      " 7   iid          166 non-null    int64 \n",
      "dtypes: int64(1), object(7)\n",
      "memory usage: 10.5+ KB\n"
     ]
    }
   ],
   "source": [
    "d1.info()"
   ]
  },
  {
   "cell_type": "code",
   "execution_count": 14,
   "id": "ad7fb590",
   "metadata": {
    "scrolled": false
   },
   "outputs": [
    {
     "name": "stderr",
     "output_type": "stream",
     "text": [
      "/tmp/ipykernel_13779/3092838383.py:1: SettingWithCopyWarning: \n",
      "A value is trying to be set on a copy of a slice from a DataFrame.\n",
      "Try using .loc[row_indexer,col_indexer] = value instead\n",
      "\n",
      "See the caveats in the documentation: https://pandas.pydata.org/pandas-docs/stable/user_guide/indexing.html#returning-a-view-versus-a-copy\n",
      "  d1[\"incredients\"]= d1[\"incredients\"].str.split(\",\", expand = False)\n"
     ]
    }
   ],
   "source": [
    "d1[\"incredients\"]= d1[\"incredients\"].str.split(\",\", expand = False)"
   ]
  },
  {
   "cell_type": "code",
   "execution_count": 15,
   "id": "e287fea5",
   "metadata": {
    "scrolled": true
   },
   "outputs": [
    {
     "data": {
      "text/plain": [
       "['Chickpeas',\n",
       " ' Besan',\n",
       " ' Onion',\n",
       " '  Garlic Cloves',\n",
       " ' Ginger',\n",
       " ' lemons',\n",
       " ' Green Chilli',\n",
       " ' tahini',\n",
       " ' Coriander powder',\n",
       " ' Cumin powder']"
      ]
     },
     "execution_count": 15,
     "metadata": {},
     "output_type": "execute_result"
    }
   ],
   "source": [
    "d1['incredients'][1]"
   ]
  },
  {
   "cell_type": "code",
   "execution_count": 16,
   "id": "0817b26a",
   "metadata": {
    "scrolled": true
   },
   "outputs": [
    {
     "data": {
      "text/plain": [
       "['Puff Pastry Sheets', ' Raw Chicken ', ' Onion', ' Cilantro', ' Green Chilli']"
      ]
     },
     "execution_count": 16,
     "metadata": {},
     "output_type": "execute_result"
    }
   ],
   "source": [
    "d1['incredients'][3]"
   ]
  },
  {
   "cell_type": "code",
   "execution_count": 17,
   "id": "00a35162",
   "metadata": {
    "scrolled": true
   },
   "outputs": [
    {
     "name": "stderr",
     "output_type": "stream",
     "text": [
      "/tmp/ipykernel_13779/1962460255.py:1: SettingWithCopyWarning: \n",
      "A value is trying to be set on a copy of a slice from a DataFrame.\n",
      "Try using .loc[row_indexer,col_indexer] = value instead\n",
      "\n",
      "See the caveats in the documentation: https://pandas.pydata.org/pandas-docs/stable/user_guide/indexing.html#returning-a-view-versus-a-copy\n",
      "  d1[\"chef_name\"]= d1[\"chef_name\"].str.split(\",\", expand = False)\n"
     ]
    }
   ],
   "source": [
    "d1[\"chef_name\"]= d1[\"chef_name\"].str.split(\",\", expand = False)"
   ]
  },
  {
   "cell_type": "code",
   "execution_count": 18,
   "id": "3ddb8758",
   "metadata": {},
   "outputs": [
    {
     "name": "stderr",
     "output_type": "stream",
     "text": [
      "/tmp/ipykernel_13779/3743669321.py:1: SettingWithCopyWarning: \n",
      "A value is trying to be set on a copy of a slice from a DataFrame.\n",
      "Try using .loc[row_indexer,col_indexer] = value instead\n",
      "\n",
      "See the caveats in the documentation: https://pandas.pydata.org/pandas-docs/stable/user_guide/indexing.html#returning-a-view-versus-a-copy\n",
      "  d1[\"user_name\"]= d1[\"user_name\"].str.split(\",\", expand = False)\n"
     ]
    }
   ],
   "source": [
    "d1[\"user_name\"]= d1[\"user_name\"].str.split(\",\", expand = False)"
   ]
  },
  {
   "cell_type": "code",
   "execution_count": 19,
   "id": "1f8dde84",
   "metadata": {
    "scrolled": false
   },
   "outputs": [
    {
     "data": {
      "text/html": [
       "<div>\n",
       "<style scoped>\n",
       "    .dataframe tbody tr th:only-of-type {\n",
       "        vertical-align: middle;\n",
       "    }\n",
       "\n",
       "    .dataframe tbody tr th {\n",
       "        vertical-align: top;\n",
       "    }\n",
       "\n",
       "    .dataframe thead th {\n",
       "        text-align: right;\n",
       "    }\n",
       "</style>\n",
       "<table border=\"1\" class=\"dataframe\">\n",
       "  <thead>\n",
       "    <tr style=\"text-align: right;\">\n",
       "      <th></th>\n",
       "      <th>id</th>\n",
       "      <th>item_name</th>\n",
       "      <th>chef_name</th>\n",
       "      <th>user_name</th>\n",
       "      <th>category</th>\n",
       "      <th>incredients</th>\n",
       "      <th>description</th>\n",
       "      <th>iid</th>\n",
       "    </tr>\n",
       "  </thead>\n",
       "  <tbody>\n",
       "    <tr>\n",
       "      <th>0</th>\n",
       "      <td>0185cf68-4851-4d80-a10a-1942cdb7faa2</td>\n",
       "      <td>Paneer butter masala</td>\n",
       "      <td>[Jinu Samuel]</td>\n",
       "      <td>[Vishnu]</td>\n",
       "      <td>[Indian, Vegetarian]</td>\n",
       "      <td>[butter,  paneer,  onions,  tomatoes,  cashew ...</td>\n",
       "      <td>Paneer butter Masala</td>\n",
       "      <td>0</td>\n",
       "    </tr>\n",
       "    <tr>\n",
       "      <th>1</th>\n",
       "      <td>026c83cb-8222-47d8-805d-327f2c07c9b3</td>\n",
       "      <td>Falafel with Humus</td>\n",
       "      <td>[R Rana]</td>\n",
       "      <td>[Vibin]</td>\n",
       "      <td>[Turkish, Vegetarian]</td>\n",
       "      <td>[Chickpeas,  Besan,  Onion,   Garlic Cloves,  ...</td>\n",
       "      <td>Falafel, a crispy pattie (or ball) made from (...</td>\n",
       "      <td>1</td>\n",
       "    </tr>\n",
       "    <tr>\n",
       "      <th>2</th>\n",
       "      <td>0343717d-0b3c-4d9f-9942-74b0ed299a23</td>\n",
       "      <td>Mutton Biriyani</td>\n",
       "      <td>[Faizan Nabeel]</td>\n",
       "      <td>[R Rana]</td>\n",
       "      <td>[Indian, 100% Halal]</td>\n",
       "      <td>[basmati rice, Bay leaves,  Black cardamom,  b...</td>\n",
       "      <td>This biriyani is prepared Old Pakistani tradit...</td>\n",
       "      <td>2</td>\n",
       "    </tr>\n",
       "  </tbody>\n",
       "</table>\n",
       "</div>"
      ],
      "text/plain": [
       "                                     id             item_name  \\\n",
       "0  0185cf68-4851-4d80-a10a-1942cdb7faa2  Paneer butter masala   \n",
       "1  026c83cb-8222-47d8-805d-327f2c07c9b3    Falafel with Humus   \n",
       "2  0343717d-0b3c-4d9f-9942-74b0ed299a23       Mutton Biriyani   \n",
       "\n",
       "         chef_name user_name               category  \\\n",
       "0    [Jinu Samuel]  [Vishnu]   [Indian, Vegetarian]   \n",
       "1         [R Rana]   [Vibin]  [Turkish, Vegetarian]   \n",
       "2  [Faizan Nabeel]  [R Rana]   [Indian, 100% Halal]   \n",
       "\n",
       "                                         incredients  \\\n",
       "0  [butter,  paneer,  onions,  tomatoes,  cashew ...   \n",
       "1  [Chickpeas,  Besan,  Onion,   Garlic Cloves,  ...   \n",
       "2  [basmati rice, Bay leaves,  Black cardamom,  b...   \n",
       "\n",
       "                                         description  iid  \n",
       "0                               Paneer butter Masala    0  \n",
       "1  Falafel, a crispy pattie (or ball) made from (...    1  \n",
       "2  This biriyani is prepared Old Pakistani tradit...    2  "
      ]
     },
     "execution_count": 19,
     "metadata": {},
     "output_type": "execute_result"
    }
   ],
   "source": [
    "d1.head(3)"
   ]
  },
  {
   "cell_type": "code",
   "execution_count": 20,
   "id": "0c3755ad",
   "metadata": {
    "scrolled": false
   },
   "outputs": [
    {
     "name": "stderr",
     "output_type": "stream",
     "text": [
      "/tmp/ipykernel_13779/1970852085.py:1: SettingWithCopyWarning: \n",
      "A value is trying to be set on a copy of a slice from a DataFrame.\n",
      "Try using .loc[row_indexer,col_indexer] = value instead\n",
      "\n",
      "See the caveats in the documentation: https://pandas.pydata.org/pandas-docs/stable/user_guide/indexing.html#returning-a-view-versus-a-copy\n",
      "  d1['description']=d1['description'].apply(lambda x:x.split())\n"
     ]
    }
   ],
   "source": [
    "d1['description']=d1['description'].apply(lambda x:x.split())"
   ]
  },
  {
   "cell_type": "code",
   "execution_count": 21,
   "id": "a5cd4ee7",
   "metadata": {
    "scrolled": true
   },
   "outputs": [
    {
     "name": "stderr",
     "output_type": "stream",
     "text": [
      "/tmp/ipykernel_13779/2481516536.py:1: SettingWithCopyWarning: \n",
      "A value is trying to be set on a copy of a slice from a DataFrame.\n",
      "Try using .loc[row_indexer,col_indexer] = value instead\n",
      "\n",
      "See the caveats in the documentation: https://pandas.pydata.org/pandas-docs/stable/user_guide/indexing.html#returning-a-view-versus-a-copy\n",
      "  d1['category']=d1['category'].apply(lambda x:[i.replace(' ','') for i in x])\n",
      "/tmp/ipykernel_13779/2481516536.py:2: SettingWithCopyWarning: \n",
      "A value is trying to be set on a copy of a slice from a DataFrame.\n",
      "Try using .loc[row_indexer,col_indexer] = value instead\n",
      "\n",
      "See the caveats in the documentation: https://pandas.pydata.org/pandas-docs/stable/user_guide/indexing.html#returning-a-view-versus-a-copy\n",
      "  d1['incredients']=d1['incredients'].apply(lambda x:[i.replace(' ','') for i in x])\n",
      "/tmp/ipykernel_13779/2481516536.py:3: SettingWithCopyWarning: \n",
      "A value is trying to be set on a copy of a slice from a DataFrame.\n",
      "Try using .loc[row_indexer,col_indexer] = value instead\n",
      "\n",
      "See the caveats in the documentation: https://pandas.pydata.org/pandas-docs/stable/user_guide/indexing.html#returning-a-view-versus-a-copy\n",
      "  d1['description']=d1['description'].apply(lambda x:[i.replace(' ','') for i in x])\n",
      "/tmp/ipykernel_13779/2481516536.py:4: SettingWithCopyWarning: \n",
      "A value is trying to be set on a copy of a slice from a DataFrame.\n",
      "Try using .loc[row_indexer,col_indexer] = value instead\n",
      "\n",
      "See the caveats in the documentation: https://pandas.pydata.org/pandas-docs/stable/user_guide/indexing.html#returning-a-view-versus-a-copy\n",
      "  d1['chef_name']=d1['chef_name'].apply(lambda x:[i.replace(' ','') for i in x])\n",
      "/tmp/ipykernel_13779/2481516536.py:5: SettingWithCopyWarning: \n",
      "A value is trying to be set on a copy of a slice from a DataFrame.\n",
      "Try using .loc[row_indexer,col_indexer] = value instead\n",
      "\n",
      "See the caveats in the documentation: https://pandas.pydata.org/pandas-docs/stable/user_guide/indexing.html#returning-a-view-versus-a-copy\n",
      "  d1['user_name']=d1['user_name'].apply(lambda x:[i.replace(' ','') for i in x])\n"
     ]
    }
   ],
   "source": [
    "d1['category']=d1['category'].apply(lambda x:[i.replace(' ','') for i in x])\n",
    "d1['incredients']=d1['incredients'].apply(lambda x:[i.replace(' ','') for i in x])\n",
    "d1['description']=d1['description'].apply(lambda x:[i.replace(' ','') for i in x])\n",
    "d1['chef_name']=d1['chef_name'].apply(lambda x:[i.replace(' ','') for i in x])\n",
    "d1['user_name']=d1['user_name'].apply(lambda x:[i.replace(' ','') for i in x])"
   ]
  },
  {
   "cell_type": "code",
   "execution_count": 22,
   "id": "ef7f36c9",
   "metadata": {
    "scrolled": false
   },
   "outputs": [
    {
     "name": "stderr",
     "output_type": "stream",
     "text": [
      "/tmp/ipykernel_13779/3771187107.py:1: SettingWithCopyWarning: \n",
      "A value is trying to be set on a copy of a slice from a DataFrame.\n",
      "Try using .loc[row_indexer,col_indexer] = value instead\n",
      "\n",
      "See the caveats in the documentation: https://pandas.pydata.org/pandas-docs/stable/user_guide/indexing.html#returning-a-view-versus-a-copy\n",
      "  d1['tags']=d1['category']+d1['incredients']+d1['description']+d1['chef_name']+d1['user_name']\n"
     ]
    }
   ],
   "source": [
    "d1['tags']=d1['category']+d1['incredients']+d1['description']+d1['chef_name']+d1['user_name']"
   ]
  },
  {
   "cell_type": "code",
   "execution_count": 23,
   "id": "12e3f198",
   "metadata": {
    "scrolled": true
   },
   "outputs": [
    {
     "data": {
      "text/plain": [
       "['Indian',\n",
       " 'Vegetarian',\n",
       " 'butter',\n",
       " 'paneer',\n",
       " 'onions',\n",
       " 'tomatoes',\n",
       " 'cashewpowders',\n",
       " 'spicepowders',\n",
       " 'herbs',\n",
       " 'Paneer',\n",
       " 'butter',\n",
       " 'Masala',\n",
       " 'JinuSamuel',\n",
       " 'Vishnu']"
      ]
     },
     "execution_count": 23,
     "metadata": {},
     "output_type": "execute_result"
    }
   ],
   "source": [
    "d1['tags'][0]"
   ]
  },
  {
   "cell_type": "code",
   "execution_count": 24,
   "id": "e30e1ede",
   "metadata": {},
   "outputs": [],
   "source": [
    "n_df=d1[['iid','item_name','tags']]"
   ]
  },
  {
   "cell_type": "code",
   "execution_count": 25,
   "id": "a73d5f21",
   "metadata": {
    "scrolled": true
   },
   "outputs": [
    {
     "data": {
      "text/plain": [
       "['Indian',\n",
       " 'Vegetarian',\n",
       " 'butter',\n",
       " 'paneer',\n",
       " 'onions',\n",
       " 'tomatoes',\n",
       " 'cashewpowders',\n",
       " 'spicepowders',\n",
       " 'herbs',\n",
       " 'Paneer',\n",
       " 'butter',\n",
       " 'Masala',\n",
       " 'JinuSamuel',\n",
       " 'Vishnu']"
      ]
     },
     "execution_count": 25,
     "metadata": {},
     "output_type": "execute_result"
    }
   ],
   "source": [
    "n_df['tags'][0]"
   ]
  },
  {
   "cell_type": "code",
   "execution_count": 26,
   "id": "6cec712a",
   "metadata": {
    "scrolled": false
   },
   "outputs": [
    {
     "name": "stderr",
     "output_type": "stream",
     "text": [
      "/tmp/ipykernel_13779/1374643345.py:1: SettingWithCopyWarning: \n",
      "A value is trying to be set on a copy of a slice from a DataFrame.\n",
      "Try using .loc[row_indexer,col_indexer] = value instead\n",
      "\n",
      "See the caveats in the documentation: https://pandas.pydata.org/pandas-docs/stable/user_guide/indexing.html#returning-a-view-versus-a-copy\n",
      "  n_df['tags']=n_df['tags'].apply(lambda x:' '.join(x))\n"
     ]
    }
   ],
   "source": [
    "n_df['tags']=n_df['tags'].apply(lambda x:' '.join(x))"
   ]
  },
  {
   "cell_type": "code",
   "execution_count": 27,
   "id": "19c770fc",
   "metadata": {
    "scrolled": false
   },
   "outputs": [
    {
     "data": {
      "text/html": [
       "<div>\n",
       "<style scoped>\n",
       "    .dataframe tbody tr th:only-of-type {\n",
       "        vertical-align: middle;\n",
       "    }\n",
       "\n",
       "    .dataframe tbody tr th {\n",
       "        vertical-align: top;\n",
       "    }\n",
       "\n",
       "    .dataframe thead th {\n",
       "        text-align: right;\n",
       "    }\n",
       "</style>\n",
       "<table border=\"1\" class=\"dataframe\">\n",
       "  <thead>\n",
       "    <tr style=\"text-align: right;\">\n",
       "      <th></th>\n",
       "      <th>iid</th>\n",
       "      <th>item_name</th>\n",
       "      <th>tags</th>\n",
       "    </tr>\n",
       "  </thead>\n",
       "  <tbody>\n",
       "    <tr>\n",
       "      <th>0</th>\n",
       "      <td>0</td>\n",
       "      <td>Paneer butter masala</td>\n",
       "      <td>Indian Vegetarian butter paneer onions tomatoe...</td>\n",
       "    </tr>\n",
       "    <tr>\n",
       "      <th>1</th>\n",
       "      <td>1</td>\n",
       "      <td>Falafel with Humus</td>\n",
       "      <td>Turkish Vegetarian Chickpeas Besan Onion Garli...</td>\n",
       "    </tr>\n",
       "    <tr>\n",
       "      <th>2</th>\n",
       "      <td>2</td>\n",
       "      <td>Mutton Biriyani</td>\n",
       "      <td>Indian 100%Halal basmatirice Bayleaves Blackca...</td>\n",
       "    </tr>\n",
       "    <tr>\n",
       "      <th>3</th>\n",
       "      <td>3</td>\n",
       "      <td>Chicken puffs</td>\n",
       "      <td>Indian NonVegetarian PuffPastrySheets RawChick...</td>\n",
       "    </tr>\n",
       "    <tr>\n",
       "      <th>4</th>\n",
       "      <td>4</td>\n",
       "      <td>Chicken Fry</td>\n",
       "      <td>Indian NonVegetarian Chicken freshgingergarlic...</td>\n",
       "    </tr>\n",
       "    <tr>\n",
       "      <th>...</th>\n",
       "      <td>...</td>\n",
       "      <td>...</td>\n",
       "      <td>...</td>\n",
       "    </tr>\n",
       "    <tr>\n",
       "      <th>161</th>\n",
       "      <td>55</td>\n",
       "      <td>Paalappam</td>\n",
       "      <td>Indian Vegetarian rice coconut coconutmilk coo...</td>\n",
       "    </tr>\n",
       "    <tr>\n",
       "      <th>162</th>\n",
       "      <td>43</td>\n",
       "      <td>Pasta alla Norma</td>\n",
       "      <td>Italian Vegan Marinarasauce eggplant oliveoil ...</td>\n",
       "    </tr>\n",
       "    <tr>\n",
       "      <th>163</th>\n",
       "      <td>35</td>\n",
       "      <td>Chicken Bombay Biryani</td>\n",
       "      <td>Indian NonVegetarian driedplums kewraessence f...</td>\n",
       "    </tr>\n",
       "    <tr>\n",
       "      <th>164</th>\n",
       "      <td>12</td>\n",
       "      <td>Beef Ularthu</td>\n",
       "      <td>Indian NonVegetarian beef shallots greenchilli...</td>\n",
       "    </tr>\n",
       "    <tr>\n",
       "      <th>165</th>\n",
       "      <td>32</td>\n",
       "      <td>Onam Sadya</td>\n",
       "      <td>Indian Vegetarian bananachips yamchips Jaggery...</td>\n",
       "    </tr>\n",
       "  </tbody>\n",
       "</table>\n",
       "<p>166 rows × 3 columns</p>\n",
       "</div>"
      ],
      "text/plain": [
       "     iid               item_name  \\\n",
       "0      0    Paneer butter masala   \n",
       "1      1      Falafel with Humus   \n",
       "2      2         Mutton Biriyani   \n",
       "3      3           Chicken puffs   \n",
       "4      4             Chicken Fry   \n",
       "..   ...                     ...   \n",
       "161   55               Paalappam   \n",
       "162   43        Pasta alla Norma   \n",
       "163   35  Chicken Bombay Biryani   \n",
       "164   12            Beef Ularthu   \n",
       "165   32              Onam Sadya   \n",
       "\n",
       "                                                  tags  \n",
       "0    Indian Vegetarian butter paneer onions tomatoe...  \n",
       "1    Turkish Vegetarian Chickpeas Besan Onion Garli...  \n",
       "2    Indian 100%Halal basmatirice Bayleaves Blackca...  \n",
       "3    Indian NonVegetarian PuffPastrySheets RawChick...  \n",
       "4    Indian NonVegetarian Chicken freshgingergarlic...  \n",
       "..                                                 ...  \n",
       "161  Indian Vegetarian rice coconut coconutmilk coo...  \n",
       "162  Italian Vegan Marinarasauce eggplant oliveoil ...  \n",
       "163  Indian NonVegetarian driedplums kewraessence f...  \n",
       "164  Indian NonVegetarian beef shallots greenchilli...  \n",
       "165  Indian Vegetarian bananachips yamchips Jaggery...  \n",
       "\n",
       "[166 rows x 3 columns]"
      ]
     },
     "execution_count": 27,
     "metadata": {},
     "output_type": "execute_result"
    }
   ],
   "source": [
    "n_df"
   ]
  },
  {
   "cell_type": "code",
   "execution_count": 28,
   "id": "990a6c4a",
   "metadata": {},
   "outputs": [
    {
     "data": {
      "text/plain": [
       "'Indian Vegetarian butter paneer onions tomatoes cashewpowders spicepowders herbs Paneer butter Masala JinuSamuel Vishnu'"
      ]
     },
     "execution_count": 28,
     "metadata": {},
     "output_type": "execute_result"
    }
   ],
   "source": [
    "n_df['tags'][0]"
   ]
  },
  {
   "cell_type": "code",
   "execution_count": 29,
   "id": "125e6ceb",
   "metadata": {
    "scrolled": true
   },
   "outputs": [
    {
     "name": "stderr",
     "output_type": "stream",
     "text": [
      "/tmp/ipykernel_13779/1766421903.py:1: SettingWithCopyWarning: \n",
      "A value is trying to be set on a copy of a slice from a DataFrame.\n",
      "Try using .loc[row_indexer,col_indexer] = value instead\n",
      "\n",
      "See the caveats in the documentation: https://pandas.pydata.org/pandas-docs/stable/user_guide/indexing.html#returning-a-view-versus-a-copy\n",
      "  n_df['tags']=n_df['tags'].apply(lambda x:x.lower())\n"
     ]
    }
   ],
   "source": [
    "n_df['tags']=n_df['tags'].apply(lambda x:x.lower())"
   ]
  },
  {
   "cell_type": "code",
   "execution_count": 30,
   "id": "1484762e",
   "metadata": {},
   "outputs": [
    {
     "data": {
      "text/plain": [
       "'indian vegetarian butter paneer onions tomatoes cashewpowders spicepowders herbs paneer butter masala jinusamuel vishnu'"
      ]
     },
     "execution_count": 30,
     "metadata": {},
     "output_type": "execute_result"
    }
   ],
   "source": [
    "n_df['tags'][0]"
   ]
  },
  {
   "cell_type": "code",
   "execution_count": 31,
   "id": "61df25a3",
   "metadata": {},
   "outputs": [
    {
     "name": "stderr",
     "output_type": "stream",
     "text": [
      "/tmp/ipykernel_13779/432061444.py:9: SettingWithCopyWarning: \n",
      "A value is trying to be set on a copy of a slice from a DataFrame.\n",
      "Try using .loc[row_indexer,col_indexer] = value instead\n",
      "\n",
      "See the caveats in the documentation: https://pandas.pydata.org/pandas-docs/stable/user_guide/indexing.html#returning-a-view-versus-a-copy\n",
      "  n_df['tags']=n_df['tags'].apply(stem)\n"
     ]
    }
   ],
   "source": [
    "import nltk\n",
    "from nltk.stem.porter import PorterStemmer\n",
    "ps=PorterStemmer()\n",
    "def stem(text):\n",
    "    y=[]\n",
    "    for i in text.split():\n",
    "        y.append(ps.stem(i))\n",
    "    return \" \".join(y)\n",
    "n_df['tags']=n_df['tags'].apply(stem)"
   ]
  },
  {
   "cell_type": "code",
   "execution_count": 32,
   "id": "697b8f8f",
   "metadata": {},
   "outputs": [],
   "source": [
    "#Define a TF-IDF Vectorizer Object. Remove all english stop words such as 'the', 'a'\n",
    "tfidf = TfidfVectorizer(stop_words='english')"
   ]
  },
  {
   "cell_type": "code",
   "execution_count": 33,
   "id": "60e33c3b",
   "metadata": {},
   "outputs": [
    {
     "data": {
      "text/plain": [
       "(166, 822)"
      ]
     },
     "execution_count": 33,
     "metadata": {},
     "output_type": "execute_result"
    }
   ],
   "source": [
    "#Construct the required TF-IDF matrix by fitting and transforming the data\n",
    "tfidf_matrix = tfidf.fit_transform(n_df['tags'])\n",
    "tfidf_matrix.shape"
   ]
  },
  {
   "cell_type": "code",
   "execution_count": 34,
   "id": "307357b7",
   "metadata": {},
   "outputs": [],
   "source": [
    "# Import linear_kernel\n",
    "from sklearn.metrics.pairwise import linear_kernel\n",
    "\n",
    "# Compute the cosine similarity matrix\n",
    "cosine_sim = linear_kernel(tfidf_matrix, tfidf_matrix)"
   ]
  },
  {
   "cell_type": "code",
   "execution_count": 35,
   "id": "5bc9ad82",
   "metadata": {},
   "outputs": [
    {
     "data": {
      "text/plain": [
       "array([[1.        , 0.0216017 , 0.00499096, ..., 0.00864703, 0.01749794,\n",
       "        0.03480165],\n",
       "       [0.0216017 , 1.        , 0.04867186, ..., 0.01069376, 0.01708095,\n",
       "        0.01449985],\n",
       "       [0.00499096, 0.04867186, 1.        , ..., 0.08977071, 0.05336917,\n",
       "        0.01917954],\n",
       "       ...,\n",
       "       [0.00864703, 0.01069376, 0.08977071, ..., 1.        , 0.05540394,\n",
       "        0.00611721],\n",
       "       [0.01749794, 0.01708095, 0.05336917, ..., 0.05540394, 1.        ,\n",
       "        0.02542999],\n",
       "       [0.03480165, 0.01449985, 0.01917954, ..., 0.00611721, 0.02542999,\n",
       "        1.        ]])"
      ]
     },
     "execution_count": 35,
     "metadata": {},
     "output_type": "execute_result"
    }
   ],
   "source": [
    "cosine_sim"
   ]
  },
  {
   "cell_type": "code",
   "execution_count": 37,
   "id": "3f314900",
   "metadata": {},
   "outputs": [],
   "source": [
    "from sklearn.feature_extraction.text import CountVectorizer\n",
    "cv = CountVectorizer(stop_words='english')"
   ]
  },
  {
   "cell_type": "code",
   "execution_count": 38,
   "id": "81fad91a",
   "metadata": {},
   "outputs": [],
   "source": [
    "vectors=cv.fit_transform(n_df['tags']).toarray()"
   ]
  },
  {
   "cell_type": "code",
   "execution_count": 39,
   "id": "9198572c",
   "metadata": {},
   "outputs": [
    {
     "data": {
      "text/plain": [
       "(166, 822)"
      ]
     },
     "execution_count": 39,
     "metadata": {},
     "output_type": "execute_result"
    }
   ],
   "source": [
    "vectors.shape"
   ]
  },
  {
   "cell_type": "code",
   "execution_count": 40,
   "id": "a464f86a",
   "metadata": {
    "scrolled": true
   },
   "outputs": [
    {
     "name": "stderr",
     "output_type": "stream",
     "text": [
      "/home/archana/.local/lib/python3.10/site-packages/sklearn/utils/deprecation.py:87: FutureWarning: Function get_feature_names is deprecated; get_feature_names is deprecated in 1.0 and will be removed in 1.2. Please use get_feature_names_out instead.\n",
      "  warnings.warn(msg, category=FutureWarning)\n"
     ]
    },
    {
     "data": {
      "text/plain": [
       "822"
      ]
     },
     "execution_count": 40,
     "metadata": {},
     "output_type": "execute_result"
    }
   ],
   "source": [
    "\n",
    "len(cv.get_feature_names())"
   ]
  },
  {
   "cell_type": "code",
   "execution_count": 41,
   "id": "0b7cf413",
   "metadata": {
    "scrolled": true
   },
   "outputs": [
    {
     "data": {
      "text/plain": [
       "['100',\n",
       " '1940s',\n",
       " '2nd',\n",
       " '450g',\n",
       " '500g',\n",
       " '5cm',\n",
       " 'absolut',\n",
       " 'absorb',\n",
       " 'acaraj',\n",
       " 'accompani',\n",
       " 'addict',\n",
       " 'afro',\n",
       " 'agata',\n",
       " 'agri',\n",
       " 'agroalimentar',\n",
       " 'alexandra',\n",
       " 'alla',\n",
       " 'allspic',\n",
       " 'almond',\n",
       " 'aloo',\n",
       " 'alway',\n",
       " 'amalgam',\n",
       " 'amaljomathew',\n",
       " 'amaz',\n",
       " 'american',\n",
       " 'anca',\n",
       " 'andparmesancheese',\n",
       " 'andsalt',\n",
       " 'anise',\n",
       " 'anittapk',\n",
       " 'anti',\n",
       " 'applecidervinegar',\n",
       " 'appreci',\n",
       " 'approxim',\n",
       " 'arborio',\n",
       " 'arborioric',\n",
       " 'aromat',\n",
       " 'arr',\n",
       " 'artsrisayam',\n",
       " 'ashgourdwithblackbeansinacoconutmilkgravi',\n",
       " 'aubergin',\n",
       " 'aubergine',\n",
       " 'authent',\n",
       " 'avial',\n",
       " 'b2',\n",
       " 'b3',\n",
       " 'baba',\n",
       " 'bacon',\n",
       " 'bahia',\n",
       " 'baiana',\n",
       " 'bake',\n",
       " 'bakedorpanfriedeggpl',\n",
       " 'bakingsoda',\n",
       " 'ball',\n",
       " 'banana',\n",
       " 'bananachip',\n",
       " 'base',\n",
       " 'basil',\n",
       " 'basilleav',\n",
       " 'basmati',\n",
       " 'basmatiric',\n",
       " 'bay',\n",
       " 'bayleav',\n",
       " 'bean',\n",
       " 'beans',\n",
       " 'beauti',\n",
       " 'bechamel',\n",
       " 'bechamelsauc',\n",
       " 'becom',\n",
       " 'beef',\n",
       " 'beeforlambmincesauc',\n",
       " 'befor',\n",
       " 'besan',\n",
       " 'best',\n",
       " 'bhatur',\n",
       " 'bhatura',\n",
       " 'bhature',\n",
       " 'big',\n",
       " 'biriyani',\n",
       " 'bit',\n",
       " 'bite',\n",
       " 'black',\n",
       " 'blackcardamom',\n",
       " 'blackchickpeascurri',\n",
       " 'blackcuminse',\n",
       " 'blackpepp',\n",
       " 'blackpeppercorn',\n",
       " 'blackpepperpowd',\n",
       " 'blackuradd',\n",
       " 'blend',\n",
       " 'bobó',\n",
       " 'boiledrice',\n",
       " 'boneless',\n",
       " 'boondi',\n",
       " 'boost',\n",
       " 'bor',\n",
       " 'bouillion',\n",
       " 'bowl',\n",
       " 'box',\n",
       " 'brazilian',\n",
       " 'brazillian',\n",
       " 'bread',\n",
       " 'breadcrumb',\n",
       " 'bring',\n",
       " 'broadbean',\n",
       " 'broth',\n",
       " 'browni',\n",
       " 'brownie',\n",
       " 'browniea',\n",
       " 'burst',\n",
       " 'butter',\n",
       " 'cabbage',\n",
       " 'cakeflour',\n",
       " 'camarão',\n",
       " 'candiedorang',\n",
       " 'cannoli',\n",
       " 'capixaba',\n",
       " 'caramel',\n",
       " 'cardamom',\n",
       " 'cardamoms',\n",
       " 'carnaroli',\n",
       " 'carrot',\n",
       " 'cashew',\n",
       " 'cashewpowd',\n",
       " 'cashews',\n",
       " 'cauliflow',\n",
       " 'cauliflower',\n",
       " 'cauliflowerorpan',\n",
       " 'celeri',\n",
       " 'center',\n",
       " 'chana',\n",
       " 'chees',\n",
       " 'cheese',\n",
       " 'cherri',\n",
       " 'chicken',\n",
       " 'chickenbreast',\n",
       " 'chickpea',\n",
       " 'chilli',\n",
       " 'chillies',\n",
       " 'chillipepp',\n",
       " 'chillipowd',\n",
       " 'chip',\n",
       " 'chocol',\n",
       " 'chole',\n",
       " 'choppedonion',\n",
       " 'christin',\n",
       " 'cilantro',\n",
       " 'cilantroch',\n",
       " 'cinnamon',\n",
       " 'cinnamonstick',\n",
       " 'cinnanom',\n",
       " 'classic',\n",
       " 'clay',\n",
       " 'clove',\n",
       " 'cloves',\n",
       " 'coat',\n",
       " 'cocktail',\n",
       " 'cocoachip',\n",
       " 'cocoapowd',\n",
       " 'coconut',\n",
       " 'coconutbit',\n",
       " 'coconutmilk',\n",
       " 'coconutoil',\n",
       " 'coffe',\n",
       " 'collard',\n",
       " 'collardgreen',\n",
       " 'color',\n",
       " 'combin',\n",
       " 'combo',\n",
       " 'come',\n",
       " 'comfort',\n",
       " 'complet',\n",
       " 'compound',\n",
       " 'confit',\n",
       " 'contain',\n",
       " 'cook',\n",
       " 'cookedric',\n",
       " 'corand',\n",
       " 'core',\n",
       " 'coriand',\n",
       " 'corianderleav',\n",
       " 'corianderpowd',\n",
       " 'cottag',\n",
       " 'cream',\n",
       " 'creami',\n",
       " 'creaminess',\n",
       " 'creamy',\n",
       " 'creat',\n",
       " 'cripi',\n",
       " 'crispi',\n",
       " 'cruelti',\n",
       " 'crumb',\n",
       " 'crumbs',\n",
       " 'crunchi',\n",
       " 'crunchy',\n",
       " 'cube',\n",
       " 'cucumb',\n",
       " 'culture',\n",
       " 'cumin',\n",
       " 'cuminpowd',\n",
       " 'cuminseed',\n",
       " 'curd',\n",
       " 'curri',\n",
       " 'curryleav',\n",
       " 'currypowd',\n",
       " 'customers',\n",
       " 'dalda',\n",
       " 'dark',\n",
       " 'darkchocolatechip',\n",
       " 'day',\n",
       " 'debadityaroy',\n",
       " 'decad',\n",
       " 'deep',\n",
       " 'definit',\n",
       " 'delect',\n",
       " 'delhi',\n",
       " 'delic',\n",
       " 'delicaci',\n",
       " 'delicacy',\n",
       " 'delici',\n",
       " 'deliv',\n",
       " 'dessert',\n",
       " 'dhaniya',\n",
       " 'dhaniyapowd',\n",
       " 'did',\n",
       " 'differ',\n",
       " 'dish',\n",
       " 'dollop',\n",
       " 'donalddejong',\n",
       " 'dri',\n",
       " 'driedapricot',\n",
       " 'driedchickpea',\n",
       " 'driedoregano',\n",
       " 'driedplum',\n",
       " 'dum',\n",
       " 'eastern',\n",
       " 'easternnonvegetarian',\n",
       " 'easternvegan',\n",
       " 'easternvegetarian',\n",
       " 'easy',\n",
       " 'eduardbudacu',\n",
       " 'egg',\n",
       " 'eggplant',\n",
       " 'eggs',\n",
       " 'elev',\n",
       " 'encompass',\n",
       " 'enjoy',\n",
       " 'enrich',\n",
       " 'espírito',\n",
       " 'evening',\n",
       " 'everi',\n",
       " 'everyday',\n",
       " 'extra',\n",
       " 'extravirginoliveoil',\n",
       " 'ey',\n",
       " 'factor',\n",
       " 'faizannabeel',\n",
       " 'fajita',\n",
       " 'falafel',\n",
       " 'famili',\n",
       " 'familia',\n",
       " 'family',\n",
       " 'famou',\n",
       " 'farfal',\n",
       " 'father',\n",
       " 'fava',\n",
       " 'favabean',\n",
       " 'featur',\n",
       " 'feel',\n",
       " 'feijão',\n",
       " 'fennelpowd',\n",
       " 'fennelse',\n",
       " 'fenugreekleav',\n",
       " 'feta',\n",
       " 'filet',\n",
       " 'filling',\n",
       " 'fish',\n",
       " 'flakyseasalt',\n",
       " 'flat',\n",
       " 'flatbread',\n",
       " 'flavor',\n",
       " 'flavour',\n",
       " 'flavours',\n",
       " 'flour',\n",
       " 'follow',\n",
       " 'food',\n",
       " 'form',\n",
       " 'fozenpea',\n",
       " 'free',\n",
       " 'freind',\n",
       " 'frenchbean',\n",
       " 'fresh',\n",
       " 'freshgingergarlicpast',\n",
       " 'freshherb',\n",
       " 'freshli',\n",
       " 'fri',\n",
       " 'fried',\n",
       " 'friedonion',\n",
       " 'friedvegetableswithgratedcoconut',\n",
       " 'friend',\n",
       " 'fries',\n",
       " 'fruit',\n",
       " 'fryingoil',\n",
       " 'fudgi',\n",
       " 'fudginess',\n",
       " 'fudgy',\n",
       " 'fusilli',\n",
       " 'gabrieleveganbearchef',\n",
       " 'ganoush',\n",
       " 'garammasala',\n",
       " 'garbanzo',\n",
       " 'garlic',\n",
       " 'garlicclov',\n",
       " 'garlicpast',\n",
       " 'gemelli',\n",
       " 'genova',\n",
       " 'gerais',\n",
       " 'ghee',\n",
       " 'gift',\n",
       " 'ginger',\n",
       " 'gingerchutney',\n",
       " 'gingergarlicpast',\n",
       " 'gingerpast',\n",
       " 'glarlicclov',\n",
       " 'glass',\n",
       " 'glaze',\n",
       " 'gluten',\n",
       " 'glutenfre',\n",
       " 'gnocchi',\n",
       " 'goat',\n",
       " 'gobhi',\n",
       " 'goldencastersugar',\n",
       " 'good',\n",
       " 'got',\n",
       " 'gourdinmildlyspicedyoghurt',\n",
       " 'gralic',\n",
       " 'grand',\n",
       " 'grandma',\n",
       " 'grandmother',\n",
       " 'gratedcoconut',\n",
       " 'gravy',\n",
       " 'greater',\n",
       " 'green',\n",
       " 'greenballpepp',\n",
       " 'greencardamom',\n",
       " 'greenchilli',\n",
       " 'greenpea',\n",
       " 'greens',\n",
       " 'groundblackpepp',\n",
       " 'guilti',\n",
       " 'guto',\n",
       " 'ha',\n",
       " 'haider',\n",
       " 'halal',\n",
       " 'harissa',\n",
       " 'hazelnut',\n",
       " 'heavenli',\n",
       " 'help',\n",
       " 'herb',\n",
       " 'highest',\n",
       " 'hilderoskam',\n",
       " 'hint',\n",
       " 'home',\n",
       " 'homemad',\n",
       " 'honey',\n",
       " 'hope',\n",
       " 'hotpepp',\n",
       " 'hour',\n",
       " 'hous',\n",
       " 'howev',\n",
       " 'hummus',\n",
       " 'hungcurd',\n",
       " 'idiyappam',\n",
       " 'impress',\n",
       " 'includ',\n",
       " 'india',\n",
       " 'indian',\n",
       " 'indigen',\n",
       " 'indulg',\n",
       " 'inflammatori',\n",
       " 'infus',\n",
       " 'ingredi',\n",
       " 'innumer',\n",
       " 'invent',\n",
       " 'isra',\n",
       " 'itali',\n",
       " 'italian',\n",
       " 'italy',\n",
       " 'item',\n",
       " 'jaggerycoatedbananachip',\n",
       " 'jeenamathew',\n",
       " 'jeera',\n",
       " 'jibuchacko',\n",
       " 'jiji',\n",
       " 'jinusamuel',\n",
       " 'jobindaniel',\n",
       " 'juici',\n",
       " 'juiciest',\n",
       " 'just',\n",
       " 'kabuli',\n",
       " 'kaima',\n",
       " 'kerala',\n",
       " 'kewraess',\n",
       " 'kidneybean',\n",
       " 'know',\n",
       " 'known',\n",
       " 'kookxtraus',\n",
       " 'kookxtrauser1',\n",
       " 'kookxtrauser11',\n",
       " 'kookxtrauser13',\n",
       " 'kookxtrauser14',\n",
       " 'kookxtrauser15',\n",
       " 'kookxtrauser16',\n",
       " 'kookxtrauser18',\n",
       " 'kookxtrauser19',\n",
       " 'kookxtrauser2',\n",
       " 'kookxtrauser20',\n",
       " 'kookxtrauser21',\n",
       " 'kookxtrauser22',\n",
       " 'kookxtrauser3',\n",
       " 'kookxtrauser4',\n",
       " 'kookxtrauser5',\n",
       " 'kookxtrauser6',\n",
       " 'kookxtrauser8',\n",
       " 'kookxtrauser9',\n",
       " 'krishnaprasadkodamana',\n",
       " 'kxasp',\n",
       " 'lactos',\n",
       " 'ladyfing',\n",
       " 'lakshmikarat',\n",
       " 'lamb',\n",
       " 'lamborbeef',\n",
       " 'largeshrimp',\n",
       " 'lasagna',\n",
       " 'lasagnanoodl',\n",
       " 'layer',\n",
       " 'leaf',\n",
       " 'leafveget',\n",
       " 'learnt',\n",
       " 'leav',\n",
       " 'leg',\n",
       " 'lemon',\n",
       " 'lemonjuic',\n",
       " 'lentil',\n",
       " 'life',\n",
       " 'lift',\n",
       " 'liguria',\n",
       " 'like',\n",
       " 'lime',\n",
       " 'limejuic',\n",
       " 'limepickl',\n",
       " 'lip',\n",
       " 'littl',\n",
       " 'll',\n",
       " 'load',\n",
       " 'lobiapea',\n",
       " 'lombardi',\n",
       " 'look',\n",
       " 'lot',\n",
       " 'love',\n",
       " 'lovers',\n",
       " 'luxuri',\n",
       " 'madhukudukkasseri',\n",
       " 'maida',\n",
       " 'make',\n",
       " 'malabar',\n",
       " 'mananvohra',\n",
       " 'mangopickl',\n",
       " 'manioc',\n",
       " 'maniocflour',\n",
       " 'manu',\n",
       " 'marin',\n",
       " 'marinarasauc',\n",
       " 'masala',\n",
       " 'mascarpon',\n",
       " 'mascarpone',\n",
       " 'mascarponechees',\n",
       " 'mashedbeansandpumpkinwithcoconutgravi',\n",
       " 'match',\n",
       " 'matka',\n",
       " 'meal',\n",
       " 'means',\n",
       " 'meant',\n",
       " 'meat',\n",
       " 'mediterranean',\n",
       " 'mediterrenean',\n",
       " 'melissa',\n",
       " 'mexican',\n",
       " 'middl',\n",
       " 'middle',\n",
       " 'mihaelaazoitei',\n",
       " 'mildli',\n",
       " 'milk',\n",
       " 'milki',\n",
       " 'mina',\n",
       " 'minc',\n",
       " 'mint',\n",
       " 'mintleav',\n",
       " 'mix',\n",
       " 'mixedvegetablegravi',\n",
       " 'moqueca',\n",
       " 'moroccan',\n",
       " 'moussaka',\n",
       " 'mouth',\n",
       " 'murad',\n",
       " 'mushroom',\n",
       " 'mushrooms',\n",
       " 'mutton',\n",
       " 'nakulchandra',\n",
       " 'nativ',\n",
       " 'night',\n",
       " 'nimisha',\n",
       " 'non',\n",
       " 'nonvegetarian',\n",
       " 'noodl',\n",
       " 'norma',\n",
       " 'north',\n",
       " 'nos',\n",
       " 'notabl',\n",
       " 'nut',\n",
       " 'nutrients',\n",
       " 'nuts',\n",
       " 'nutsmalmond',\n",
       " 'oats',\n",
       " 'observ',\n",
       " 'octob',\n",
       " 'odisha',\n",
       " 'offer',\n",
       " 'oil',\n",
       " 'oilandwat',\n",
       " 'old',\n",
       " 'oliv',\n",
       " 'oliveoil',\n",
       " 'onam',\n",
       " 'ones',\n",
       " 'onion',\n",
       " 'onions',\n",
       " 'onli',\n",
       " 'oregano',\n",
       " 'origin',\n",
       " 'oronion',\n",
       " 'oven',\n",
       " 'paalappam',\n",
       " 'pack',\n",
       " 'packag',\n",
       " 'pair',\n",
       " 'pakistani',\n",
       " 'pakora',\n",
       " 'palak',\n",
       " 'palestinian',\n",
       " 'palm',\n",
       " 'palmoil',\n",
       " 'pan',\n",
       " 'paneer',\n",
       " 'panfri',\n",
       " 'papad',\n",
       " 'paprika',\n",
       " 'parsley',\n",
       " 'parsleyleav',\n",
       " 'pasta',\n",
       " 'pastasauc',\n",
       " 'paste',\n",
       " 'pat',\n",
       " 'patti',\n",
       " 'pea',\n",
       " 'pearls',\n",
       " 'peas',\n",
       " 'pecorino',\n",
       " 'peper',\n",
       " 'pepper',\n",
       " 'peppers',\n",
       " 'perfect',\n",
       " 'pesto',\n",
       " 'phulka',\n",
       " 'phyllopastri',\n",
       " 'pickl',\n",
       " 'pickle',\n",
       " 'piec',\n",
       " 'pieces',\n",
       " 'pinch',\n",
       " 'pistachio',\n",
       " 'pizza',\n",
       " 'place',\n",
       " 'plainflour',\n",
       " 'plant',\n",
       " 'pleasur',\n",
       " 'poato',\n",
       " 'portion',\n",
       " 'pot',\n",
       " 'potato',\n",
       " 'potatoes',\n",
       " 'potatognocchi',\n",
       " 'powder',\n",
       " 'prepar',\n",
       " 'present',\n",
       " 'prodotto',\n",
       " 'product',\n",
       " 'protien',\n",
       " 'proven',\n",
       " 'provid',\n",
       " 'psta',\n",
       " 'puffpastrysheet',\n",
       " 'pulao',\n",
       " 'punjabi',\n",
       " 'quintessenti',\n",
       " 'radish',\n",
       " 'raisin',\n",
       " 'raita',\n",
       " 'rakeshkumar',\n",
       " 'rasam',\n",
       " 'rawchicken',\n",
       " 'recip',\n",
       " 'recogn',\n",
       " 'red',\n",
       " 'redchiilipowd',\n",
       " 'redchilli',\n",
       " 'redchillipowd',\n",
       " 'redonion',\n",
       " 'redpepperflak',\n",
       " 'reduc',\n",
       " 'refinedoil',\n",
       " 'refresh',\n",
       " 'region',\n",
       " 'request',\n",
       " 'rice',\n",
       " 'riceflour',\n",
       " 'rich',\n",
       " 'ricotta',\n",
       " 'right',\n",
       " 'rincysara',\n",
       " 'rinku',\n",
       " 'risotto',\n",
       " 'rocket',\n",
       " 'rohitramesh',\n",
       " 'romanian',\n",
       " 'romano',\n",
       " 'root',\n",
       " 'rosemary',\n",
       " 'roti',\n",
       " 'rrana',\n",
       " 'sabordalilli',\n",
       " 'sadya',\n",
       " 'saffron',\n",
       " 'sail',\n",
       " 'salad',\n",
       " 'salt',\n",
       " 'salty',\n",
       " 'samad',\n",
       " 'sambar',\n",
       " 'samer',\n",
       " 'santo',\n",
       " 'santosh',\n",
       " 'sara',\n",
       " 'satisfi',\n",
       " 'sauc',\n",
       " 'sauce',\n",
       " 'saudamini',\n",
       " 'sausag',\n",
       " 'sausage',\n",
       " 'saute',\n",
       " 'savoury',\n",
       " 'scientif',\n",
       " 'seafood',\n",
       " 'seasalt',\n",
       " 'season',\n",
       " 'seasoning',\n",
       " 'seeds',\n",
       " 'semolina',\n",
       " 'sense',\n",
       " 'senses',\n",
       " 'serv',\n",
       " 'sever',\n",
       " 'seviya',\n",
       " 'shakshuka',\n",
       " 'shallot',\n",
       " 'shallots',\n",
       " 'share',\n",
       " 'shaunthoma',\n",
       " 'sheetal',\n",
       " 'shell',\n",
       " 'sherida',\n",
       " 'shiju',\n",
       " 'shreddedchees',\n",
       " 'shrimp',\n",
       " 'sicilian',\n",
       " 'sicily',\n",
       " 'silveredalomond',\n",
       " 'simpl',\n",
       " 'simplicity',\n",
       " 'slow',\n",
       " 'smack',\n",
       " 'small',\n",
       " 'smoke',\n",
       " 'snack',\n",
       " 'soak',\n",
       " 'soft',\n",
       " 'someon',\n",
       " 'sometim',\n",
       " 'soup',\n",
       " 'sourc',\n",
       " 'soy',\n",
       " 'special',\n",
       " 'spice',\n",
       " 'spicedpotato',\n",
       " 'spicepowd',\n",
       " 'spices',\n",
       " 'spici',\n",
       " 'spicybuttermilk',\n",
       " 'spin',\n",
       " 'spinach',\n",
       " 'spongi',\n",
       " 'spoon',\n",
       " 'spuci',\n",
       " 'start',\n",
       " 'state',\n",
       " 'steam',\n",
       " 'stew',\n",
       " 'stir',\n",
       " 'street',\n",
       " 'stress',\n",
       " 'stuf',\n",
       " 'style',\n",
       " 'succul',\n",
       " 'sugar',\n",
       " 'sumac',\n",
       " 'sunainajoseph',\n",
       " 'sunilbabu',\n",
       " 'super',\n",
       " 'sweet',\n",
       " 'sweetredwin',\n",
       " 'syam',\n",
       " 'syrian',\n",
       " 'tacos',\n",
       " 'tagin',\n",
       " 'tahini',\n",
       " 'tahinia',\n",
       " 'tamarind',\n",
       " 'tandoori',\n",
       " 'tapiocastarch',\n",
       " 'tast',\n",
       " 'taste',\n",
       " 'tastebud',\n",
       " 'tasti',\n",
       " 'tasty',\n",
       " 'tea',\n",
       " 'tender',\n",
       " 'textur',\n",
       " 'texture',\n",
       " 'thank',\n",
       " 'thi',\n",
       " 'tofu',\n",
       " 'tom',\n",
       " 'tomato',\n",
       " 'tomatoes',\n",
       " 'tomatoey',\n",
       " 'tomatosoup',\n",
       " 'tomjoseph',\n",
       " 'tradit',\n",
       " 'tradizional',\n",
       " 'treat',\n",
       " 'tri',\n",
       " 'tropeiro',\n",
       " 'true',\n",
       " 'tumericpowd',\n",
       " 'turkish',\n",
       " 'turmer',\n",
       " 'turmeric',\n",
       " 'turmericpowd',\n",
       " 'twist',\n",
       " 'type',\n",
       " 'typic',\n",
       " 'ularthu',\n",
       " 'ultim',\n",
       " 'unsaltedbutt',\n",
       " 'use',\n",
       " 'vari',\n",
       " 'vatapa',\n",
       " 'veg',\n",
       " 'vegan',\n",
       " 'veganmargarin',\n",
       " 'veganricotta',\n",
       " 'veget',\n",
       " 'vegetables',\n",
       " 'vegetarian',\n",
       " 'veggi',\n",
       " 'veggiees',\n",
       " 'veggieese',\n",
       " 'venkat',\n",
       " 'veri',\n",
       " 'version',\n",
       " 'vibes',\n",
       " 'vibin',\n",
       " 'vinnegrait',\n",
       " 'vishnu',\n",
       " 'vitamin',\n",
       " 'vugnamungo',\n",
       " 'wa',\n",
       " 'walnut',\n",
       " 'want',\n",
       " 'wat',\n",
       " 'water',\n",
       " 'way',\n",
       " 'wheatflour',\n",
       " 'whitecumin',\n",
       " 'whitepepp',\n",
       " 'whitewin',\n",
       " 'wide',\n",
       " 'wind',\n",
       " 'wine',\n",
       " 'wonder',\n",
       " 'world',\n",
       " 'yamchip',\n",
       " 'yeast',\n",
       " 'yellowandgreenbellpepp',\n",
       " 'yoghurt',\n",
       " 'yogurt',\n",
       " 'yogurtbasedcurri',\n",
       " 'yolk',\n",
       " 'yougurt',\n",
       " 'yuca',\n",
       " 'yucaroot',\n",
       " 'zesti']"
      ]
     },
     "execution_count": 41,
     "metadata": {},
     "output_type": "execute_result"
    }
   ],
   "source": [
    "(cv.get_feature_names())"
   ]
  },
  {
   "cell_type": "code",
   "execution_count": 42,
   "id": "9967ca92",
   "metadata": {},
   "outputs": [
    {
     "data": {
      "text/plain": [
       "1"
      ]
     },
     "execution_count": 42,
     "metadata": {},
     "output_type": "execute_result"
    }
   ],
   "source": [
    "p=[0]\n",
    "len(p)"
   ]
  },
  {
   "cell_type": "code",
   "execution_count": 43,
   "id": "c8b50afa",
   "metadata": {},
   "outputs": [],
   "source": [
    "from sklearn.metrics.pairwise import cosine_similarity\n",
    "similarity=cosine_similarity(vectors)"
   ]
  },
  {
   "cell_type": "code",
   "execution_count": 44,
   "id": "58dc630d",
   "metadata": {},
   "outputs": [
    {
     "data": {
      "text/plain": [
       "array([[1.        , 0.06804138, 0.02431083, ..., 0.04714045, 0.07647191,\n",
       "        0.11043153],\n",
       "       [0.06804138, 1.        , 0.07443642, ..., 0.02886751, 0.04682929,\n",
       "        0.04508348],\n",
       "       [0.02431083, 0.07443642, 1.        , ..., 0.18565582, 0.11712303,\n",
       "        0.04832428],\n",
       "       ...,\n",
       "       [0.04714045, 0.02886751, 0.18565582, ..., 1.        , 0.16222142,\n",
       "        0.03123475],\n",
       "       [0.07647191, 0.04682929, 0.11712303, ..., 0.16222142, 1.        ,\n",
       "        0.07600419],\n",
       "       [0.11043153, 0.04508348, 0.04832428, ..., 0.03123475, 0.07600419,\n",
       "        1.        ]])"
      ]
     },
     "execution_count": 44,
     "metadata": {},
     "output_type": "execute_result"
    }
   ],
   "source": [
    "similarity"
   ]
  },
  {
   "cell_type": "code",
   "execution_count": 45,
   "id": "631abfdb",
   "metadata": {},
   "outputs": [
    {
     "data": {
      "text/plain": [
       "[(2, 1.000000000000001),\n",
       " (62, 0.9861524542329106),\n",
       " (42, 0.9848557906889888),\n",
       " (49, 0.9848557906889888),\n",
       " (60, 0.9828866298392454),\n",
       " (102, 0.9813905043241731),\n",
       " (118, 0.9813905043241731),\n",
       " (10, 0.9791448267286419),\n",
       " (20, 0.9791448267286419),\n",
       " (24, 0.9791448267286419),\n",
       " (53, 0.17517585914841766),\n",
       " (83, 0.16082558279328615),\n",
       " (131, 0.15993269124141274),\n",
       " (142, 0.15870344895074404),\n",
       " (50, 0.15822486963159565),\n",
       " (31, 0.15790693118806495),\n",
       " (59, 0.15790693118806495),\n",
       " (5, 0.15750273057459568),\n",
       " (28, 0.15750273057459566),\n",
       " (57, 0.15750273057459566),\n",
       " (98, 0.15750273057459566),\n",
       " (103, 0.15750273057459566),\n",
       " (58, 0.15695776840684125),\n",
       " (112, 0.15695776840684125),\n",
       " (16, 0.1561456997791494),\n",
       " (27, 0.1561456997791494),\n",
       " (30, 0.1561456997791494),\n",
       " (33, 0.15270346987793285),\n",
       " (43, 0.14523698404490007),\n",
       " (68, 0.14396146987775693),\n",
       " (148, 0.14313612931512706),\n",
       " (117, 0.13452564646995177),\n",
       " (22, 0.1207413530398903),\n",
       " (19, 0.11964883636139512),\n",
       " (119, 0.1139239278790783),\n",
       " (76, 0.10960059267894426),\n",
       " (35, 0.10874546872386137),\n",
       " (23, 0.10861266859058324),\n",
       " (96, 0.10074276745393224),\n",
       " (104, 0.10028401713853843),\n",
       " (95, 0.10008243090844313),\n",
       " (45, 0.09232405121803636),\n",
       " (139, 0.09040304000333825),\n",
       " (163, 0.08977070645214093),\n",
       " (84, 0.08941491674764895),\n",
       " (32, 0.08400011394270719),\n",
       " (121, 0.07829476578055727),\n",
       " (153, 0.07622906175239114),\n",
       " (38, 0.07170675709869044),\n",
       " (132, 0.06835923413133854),\n",
       " (29, 0.06816719388917276),\n",
       " (18, 0.06763313674777865),\n",
       " (21, 0.06709914637558773),\n",
       " (69, 0.06538559567152329),\n",
       " (145, 0.06512191729571916),\n",
       " (157, 0.06474646966017601),\n",
       " (150, 0.06457539382137152),\n",
       " (12, 0.06457531700859723),\n",
       " (48, 0.06227915339644885),\n",
       " (151, 0.06114799641545987),\n",
       " (134, 0.06092290855203891),\n",
       " (15, 0.06077362277601639),\n",
       " (37, 0.06077362277601639),\n",
       " (40, 0.06058411827855501),\n",
       " (26, 0.05909221863568628),\n",
       " (8, 0.0574167080141955),\n",
       " (113, 0.05537097036270227),\n",
       " (143, 0.055100873595056804),\n",
       " (133, 0.05505913037367933),\n",
       " (161, 0.05499141620444749),\n",
       " (64, 0.05336916743459187),\n",
       " (164, 0.05336916743459187),\n",
       " (46, 0.05310190786993355),\n",
       " (152, 0.052569035558975095),\n",
       " (66, 0.05202742143243321),\n",
       " (140, 0.0509907835237068),\n",
       " (147, 0.05077435379389663),\n",
       " (4, 0.05020515797555532),\n",
       " (159, 0.05020515797555532),\n",
       " (155, 0.050179886893028984),\n",
       " (87, 0.04952563963297202),\n",
       " (74, 0.04947193480624121),\n",
       " (122, 0.049222662646964566),\n",
       " (109, 0.04919465374565937),\n",
       " (127, 0.04919465374565937),\n",
       " (154, 0.04919465374565937),\n",
       " (6, 0.048757855569695564),\n",
       " (72, 0.04867592810642649),\n",
       " (1, 0.048671862209511266),\n",
       " (52, 0.04793089499119153),\n",
       " (7, 0.045538810634707924),\n",
       " (17, 0.04502372944769333),\n",
       " (91, 0.04348436947572829),\n",
       " (138, 0.04338050752652793),\n",
       " (158, 0.04338050752652793),\n",
       " (73, 0.04291175518425786),\n",
       " (136, 0.04283406495305911),\n",
       " (88, 0.042778870427188406),\n",
       " (124, 0.042578418916467825),\n",
       " (14, 0.038522016372321555),\n",
       " (156, 0.03475690491971902),\n",
       " (97, 0.034612209476068946),\n",
       " (106, 0.03431067802451857),\n",
       " (75, 0.03419365335388298),\n",
       " (41, 0.03354047502045991),\n",
       " (44, 0.03354047502045991),\n",
       " (39, 0.032700905765005034),\n",
       " (120, 0.031744108112541976),\n",
       " (123, 0.03138017154732143),\n",
       " (146, 0.02883840364587501),\n",
       " (130, 0.028802958334311242),\n",
       " (11, 0.028513378924325927),\n",
       " (3, 0.024091470667725476),\n",
       " (100, 0.024079714364397126),\n",
       " (9, 0.020511080236568273),\n",
       " (129, 0.019781523048801705),\n",
       " (36, 0.01968328866893047),\n",
       " (70, 0.01965675100875465),\n",
       " (89, 0.019496476218403638),\n",
       " (85, 0.01943716482153724),\n",
       " (160, 0.01943716482153724),\n",
       " (77, 0.019347677494231604),\n",
       " (99, 0.019347677494231604),\n",
       " (115, 0.019347677494231604),\n",
       " (144, 0.019347677494231604),\n",
       " (80, 0.019179543528432094),\n",
       " (81, 0.019179543528432094),\n",
       " (82, 0.019179543528432094),\n",
       " (86, 0.019179543528432094),\n",
       " (93, 0.019179543528432094),\n",
       " (110, 0.019179543528432094),\n",
       " (125, 0.019179543528432094),\n",
       " (137, 0.019179543528432094),\n",
       " (141, 0.019179543528432094),\n",
       " (165, 0.019179543528432094),\n",
       " (162, 0.01718520580372432),\n",
       " (101, 0.017056295861211948),\n",
       " (78, 0.016622284375720494),\n",
       " (90, 0.01651676248084512),\n",
       " (105, 0.006437443819334151),\n",
       " (25, 0.006349400193976025),\n",
       " (56, 0.006291182148751794),\n",
       " (111, 0.006291182148751794),\n",
       " (61, 0.005323639130697107),\n",
       " (47, 0.005282396669271099),\n",
       " (128, 0.0051942733870893485),\n",
       " (79, 0.0050671792647380715),\n",
       " (116, 0.005036591828051435),\n",
       " (54, 0.005016424294500394),\n",
       " (67, 0.005016424294500394),\n",
       " (0, 0.004990958507030713),\n",
       " (13, 0.0045473599157193016),\n",
       " (92, 0.003911228549661679),\n",
       " (34, 0.0),\n",
       " (51, 0.0),\n",
       " (55, 0.0),\n",
       " (63, 0.0),\n",
       " (65, 0.0),\n",
       " (71, 0.0),\n",
       " (94, 0.0),\n",
       " (107, 0.0),\n",
       " (108, 0.0),\n",
       " (114, 0.0),\n",
       " (126, 0.0),\n",
       " (135, 0.0),\n",
       " (149, 0.0)]"
      ]
     },
     "execution_count": 45,
     "metadata": {},
     "output_type": "execute_result"
    }
   ],
   "source": [
    "d=cosine_sim[2]\n",
    "sorted(list(enumerate(d)),reverse=True, key=lambda x:x[1])\n",
    "#d"
   ]
  },
  {
   "cell_type": "code",
   "execution_count": 46,
   "id": "d3714971",
   "metadata": {},
   "outputs": [],
   "source": [
    "def recommend(item):\n",
    "    item_index=n_df[n_df['item_name']==item].index[0]\n",
    "    distance=similarity[item_index]\n",
    "    item_list= sorted(list(enumerate(distance)),reverse=True, key=lambda x:x[1])  \n",
    "    item=[]\n",
    "    pics=[]\n",
    "    count=0\n",
    "    \n",
    "    for i in item_list:\n",
    "       \n",
    "        if n_df.iloc[i[0]].item_name not in item:\n",
    "            item.append(n_df.iloc[i[0]].item_name)\n",
    "            pics.append(image[image['item_name']==n_df.iloc[i[0]].item_name]['images'].values[0])\n",
    "            count+=1\n",
    "            \n",
    "            if count==6:\n",
    "                break\n",
    "      \n",
    "    return item,pics\n",
    "                                         "
   ]
  },
  {
   "cell_type": "code",
   "execution_count": 47,
   "id": "3444a46e",
   "metadata": {},
   "outputs": [],
   "source": [
    "def recommend(item):\n",
    "    item_index=n_df[n_df['item_name']==item].index[0]\n",
    "    distance=cosine_sim[item_index]\n",
    "    item_list= sorted(list(enumerate(distance)),reverse=True, key=lambda x:x[1])  \n",
    "    item=[]\n",
    "    pics=[]\n",
    "    count=0\n",
    "    \n",
    "    for i in item_list:\n",
    "       \n",
    "        if n_df.iloc[i[0]].item_name not in item:\n",
    "            item.append(n_df.iloc[i[0]].item_name)\n",
    "            pics.append(image[image['item_name']==n_df.iloc[i[0]].item_name]['images'].values[0])\n",
    "            count+=1\n",
    "            \n",
    "            if count==6:\n",
    "                break\n",
    "      \n",
    "    return item,pics\n",
    "                       "
   ]
  },
  {
   "cell_type": "code",
   "execution_count": 48,
   "id": "c2fe2480",
   "metadata": {},
   "outputs": [],
   "source": [
    "names,pictures=recommend('Idiyappam')\n",
    "#Pasta alla Norma\n"
   ]
  },
  {
   "cell_type": "code",
   "execution_count": 49,
   "id": "ec6b4aaf",
   "metadata": {},
   "outputs": [
    {
     "name": "stdout",
     "output_type": "stream",
     "text": [
      "Paalappam\n"
     ]
    },
    {
     "data": {
      "image/png": "[encoded data removed]",
      "text/plain": [
       "<PIL.Image.Image image mode=RGB size=150x150 at 0x7FB610BD02E0>"
      ]
     },
     "metadata": {},
     "output_type": "display_data"
    },
    {
     "name": "stdout",
     "output_type": "stream",
     "text": [
      "Beef Ularthu\n"
     ]
    },
    {
     "data": {
      "image/png": "[encoded data removed]",
      "text/plain": [
       "<PIL.Image.Image image mode=RGB size=150x150 at 0x7FB62D8F7BB0>"
      ]
     },
     "metadata": {},
     "output_type": "display_data"
    },
    {
     "name": "stdout",
     "output_type": "stream",
     "text": [
      "Family Combo- Appam+curry\n"
     ]
    },
    {
     "data": {
      "image/png": "[encoded data removed]",
      "text/plain": [
       "<PIL.Image.Image image mode=RGB size=150x150 at 0x7FB60ED34490>"
      ]
     },
     "metadata": {},
     "output_type": "display_data"
    },
    {
     "name": "stdout",
     "output_type": "stream",
     "text": [
      "Chicken curry\n"
     ]
    },
    {
     "data": {
      "image/png": "[encoded data removed]",
      "text/plain": [
       "<PIL.Image.Image image mode=RGB size=150x150 at 0x7FB610B43BE0>"
      ]
     },
     "metadata": {},
     "output_type": "display_data"
    },
    {
     "name": "stdout",
     "output_type": "stream",
     "text": [
      "Gobi fry\n"
     ]
    },
    {
     "data": {
      "image/png": "[encoded data removed]",
      "text/plain": [
       "<PIL.Image.Image image mode=RGB size=150x150 at 0x7FB60ED36530>"
      ]
     },
     "metadata": {},
     "output_type": "display_data"
    }
   ],
   "source": [
    "for i in range(1,6):     \n",
    "    print(names[i])\n",
    "    ima=url_to_image(pictures[i])\n",
    "    display(ima)\n",
    "    "
   ]
  },
  {
   "cell_type": "code",
   "execution_count": 53,
   "id": "ae19e40d",
   "metadata": {},
   "outputs": [
    {
     "name": "stdout",
     "output_type": "stream",
     "text": [
      "Paalappam\n",
      "Beef Ularthu\n",
      "Chicken curry\n",
      "Vegetable cutlet\n",
      "Gobi fry\n"
     ]
    }
   ],
   "source": [
    "for i in range(1,6):     \n",
    "    print(names[i])"
   ]
  },
  {
   "cell_type": "code",
   "execution_count": null,
   "id": "e7946494",
   "metadata": {},
   "outputs": [],
   "source": []
  },
  {
   "cell_type": "code",
   "execution_count": null,
   "id": "ad71f8be",
   "metadata": {},
   "outputs": [],
   "source": []
  },
  {
   "cell_type": "code",
   "execution_count": null,
   "id": "bd99f1fd",
   "metadata": {},
   "outputs": [],
   "source": []
  },
  {
   "cell_type": "code",
   "execution_count": null,
   "id": "8c43318c",
   "metadata": {},
   "outputs": [],
   "source": []
  },
  {
   "cell_type": "code",
   "execution_count": null,
   "id": "81edea66",
   "metadata": {},
   "outputs": [],
   "source": []
  },
  {
   "cell_type": "code",
   "execution_count": null,
   "id": "6148d880",
   "metadata": {},
   "outputs": [],
   "source": []
  },
  {
   "cell_type": "code",
   "execution_count": null,
   "id": "a95842c6",
   "metadata": {},
   "outputs": [],
   "source": [
    "import pandas as pd"
   ]
  },
  {
   "cell_type": "code",
   "execution_count": null,
   "id": "caa91e3c",
   "metadata": {},
   "outputs": [],
   "source": [
    "idtem=pd.read_csv('user_item.csv')"
   ]
  },
  {
   "cell_type": "code",
   "execution_count": null,
   "id": "9923c3ea",
   "metadata": {},
   "outputs": [],
   "source": [
    "len(idtem['user_name'].unique())"
   ]
  },
  {
   "cell_type": "code",
   "execution_count": null,
   "id": "dff66f45",
   "metadata": {},
   "outputs": [],
   "source": [
    "len(idtem['item_name'].unique())"
   ]
  },
  {
   "cell_type": "code",
   "execution_count": null,
   "id": "bdd75bed",
   "metadata": {},
   "outputs": [],
   "source": [
    "len(idtem['chef_name'].unique())"
   ]
  },
  {
   "cell_type": "code",
   "execution_count": null,
   "id": "e08455c3",
   "metadata": {},
   "outputs": [],
   "source": [
    "idtem.shape"
   ]
  },
  {
   "cell_type": "code",
   "execution_count": 49,
   "id": "fec54cf6",
   "metadata": {},
   "outputs": [],
   "source": [
    "import pickle\n",
    "#pickle.dump(n_df.to_dict(),open('item_dict.pkl','wb'))"
   ]
  },
  {
   "cell_type": "code",
   "execution_count": null,
   "id": "27729f7a",
   "metadata": {},
   "outputs": [],
   "source": [
    "#pickle.dump(n_df.to_dict(),open('item_dict.pkl','wb'))\n",
    "pickle.dump(item.to_dict(),open('dict_item.pkl','wb'))"
   ]
  },
  {
   "cell_type": "code",
   "execution_count": null,
   "id": "1cc84826",
   "metadata": {
    "scrolled": true
   },
   "outputs": [],
   "source": [
    "n_df.to_dict()"
   ]
  },
  {
   "cell_type": "code",
   "execution_count": null,
   "id": "f91d9794",
   "metadata": {},
   "outputs": [],
   "source": [
    "pickle.dump(similarity,open('similarity.pkl','wb'))\n"
   ]
  },
  {
   "cell_type": "code",
   "execution_count": 50,
   "id": "acf374a9",
   "metadata": {},
   "outputs": [],
   "source": [
    "pickle.dump(cosine_sim,open('cos_similarity.pkl','wb'))"
   ]
  },
  {
   "cell_type": "code",
   "execution_count": null,
   "id": "3568a594",
   "metadata": {},
   "outputs": [],
   "source": [
    "df[df['chef_name']=='Jinu Samuel']['item_name'].unique()"
   ]
  },
  {
   "cell_type": "code",
   "execution_count": null,
   "id": "83867d74",
   "metadata": {},
   "outputs": [],
   "source": [
    "pickle.dump(image.to_dict(),open('image.pkl','wb'))"
   ]
  },
  {
   "cell_type": "code",
   "execution_count": null,
   "id": "924ce01c",
   "metadata": {},
   "outputs": [],
   "source": [
    "Falafel with Humus\n",
    "# Acaraje family box\n",
    "# ACARAJE\n",
    "Fish fry\n",
    "\n",
    "Moqueca with Fish, Rice and Pirão\n",
    "Tiramisu\n",
    "# Feijao Tropeiro\n",
    "\n",
    "Vegan Cannoli\n",
    "# Bobo de Camarao\n",
    "Box of Premium Chocolate Glazed Cocoa Chips Brownie\n",
    "Fajita Vegan with Syrian bread\n",
    "Box of Premium Salted Caramel Cocoa Chips Brownie\n"
   ]
  },
  {
   "cell_type": "code",
   "execution_count": null,
   "id": "04e83d40",
   "metadata": {},
   "outputs": [],
   "source": []
  },
  {
   "cell_type": "code",
   "execution_count": null,
   "id": "75fa446a",
   "metadata": {},
   "outputs": [],
   "source": []
  },
  {
   "cell_type": "code",
   "execution_count": null,
   "id": "07824e4e",
   "metadata": {},
   "outputs": [],
   "source": []
  },
  {
   "cell_type": "code",
   "execution_count": null,
   "id": "94424752",
   "metadata": {},
   "outputs": [],
   "source": []
  },
  {
   "cell_type": "code",
   "execution_count": null,
   "id": "6de55c40",
   "metadata": {},
   "outputs": [],
   "source": []
  },
  {
   "cell_type": "code",
   "execution_count": null,
   "id": "3e449b8d",
   "metadata": {},
   "outputs": [],
   "source": []
  },
  {
   "cell_type": "code",
   "execution_count": null,
   "id": "9a60df57",
   "metadata": {},
   "outputs": [],
   "source": []
  },
  {
   "cell_type": "code",
   "execution_count": null,
   "id": "a0613d40",
   "metadata": {},
   "outputs": [],
   "source": []
  },
  {
   "cell_type": "code",
   "execution_count": null,
   "id": "f6e838ae",
   "metadata": {},
   "outputs": [],
   "source": []
  },
  {
   "cell_type": "code",
   "execution_count": null,
   "id": "03d91c66",
   "metadata": {},
   "outputs": [],
   "source": []
  },
  {
   "cell_type": "code",
   "execution_count": null,
   "id": "d94729c4",
   "metadata": {},
   "outputs": [],
   "source": []
  },
  {
   "cell_type": "code",
   "execution_count": null,
   "id": "4453b00a",
   "metadata": {},
   "outputs": [],
   "source": []
  },
  {
   "cell_type": "code",
   "execution_count": null,
   "id": "20587da2",
   "metadata": {},
   "outputs": [],
   "source": []
  },
  {
   "cell_type": "code",
   "execution_count": null,
   "id": "33277538",
   "metadata": {},
   "outputs": [],
   "source": []
  },
  {
   "cell_type": "code",
   "execution_count": null,
   "id": "f99dcd24",
   "metadata": {},
   "outputs": [],
   "source": []
  },
  {
   "cell_type": "code",
   "execution_count": null,
   "id": "e9f4088d",
   "metadata": {},
   "outputs": [],
   "source": []
  },
  {
   "cell_type": "code",
   "execution_count": null,
   "id": "27f0ffe8",
   "metadata": {},
   "outputs": [],
   "source": []
  },
  {
   "cell_type": "code",
   "execution_count": null,
   "id": "16d856e9",
   "metadata": {},
   "outputs": [],
   "source": []
  },
  {
   "cell_type": "code",
   "execution_count": null,
   "id": "99b50a8e",
   "metadata": {},
   "outputs": [],
   "source": []
  },
  {
   "cell_type": "code",
   "execution_count": null,
   "id": "4e9f094e",
   "metadata": {},
   "outputs": [],
   "source": []
  },
  {
   "cell_type": "code",
   "execution_count": null,
   "id": "0efb5fcd",
   "metadata": {},
   "outputs": [],
   "source": []
  },
  {
   "cell_type": "code",
   "execution_count": null,
   "id": "a3acc263",
   "metadata": {},
   "outputs": [],
   "source": []
  },
  {
   "cell_type": "code",
   "execution_count": null,
   "id": "6ef4b26f",
   "metadata": {},
   "outputs": [],
   "source": []
  },
  {
   "cell_type": "code",
   "execution_count": null,
   "id": "41e92934",
   "metadata": {},
   "outputs": [],
   "source": []
  },
  {
   "cell_type": "code",
   "execution_count": null,
   "id": "e7af0375",
   "metadata": {},
   "outputs": [],
   "source": []
  },
  {
   "cell_type": "code",
   "execution_count": null,
   "id": "b78c2a24",
   "metadata": {},
   "outputs": [],
   "source": []
  },
  {
   "cell_type": "code",
   "execution_count": null,
   "id": "88ef8321",
   "metadata": {},
   "outputs": [],
   "source": []
  },
  {
   "cell_type": "code",
   "execution_count": null,
   "id": "4779b6e2",
   "metadata": {},
   "outputs": [],
   "source": []
  },
  {
   "cell_type": "code",
   "execution_count": null,
   "id": "3646f32d",
   "metadata": {},
   "outputs": [],
   "source": []
  },
  {
   "cell_type": "code",
   "execution_count": null,
   "id": "8d33b55b",
   "metadata": {},
   "outputs": [],
   "source": []
  },
  {
   "cell_type": "code",
   "execution_count": null,
   "id": "120f2eac",
   "metadata": {},
   "outputs": [],
   "source": []
  }
 ],
 "metadata": {
  "kernelspec": {
   "display_name": "Python 3 (ipykernel)",
   "language": "python",
   "name": "python3"
  },
  "language_info": {
   "codemirror_mode": {
    "name": "ipython",
    "version": 3
   },
   "file_extension": ".py",
   "mimetype": "text/x-python",
   "name": "python",
   "nbconvert_exporter": "python",
   "pygments_lexer": "ipython3",
   "version": "3.10.6"
  }
 },
 "nbformat": 4,
 "nbformat_minor": 5
}
